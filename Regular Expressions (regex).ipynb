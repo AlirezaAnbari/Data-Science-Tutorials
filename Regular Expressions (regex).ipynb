{
 "cells": [
  {
   "cell_type": "markdown",
   "id": "85b97456-1587-417e-a0e1-5d4ff5ace3a8",
   "metadata": {},
   "source": [
    "# Table of Contents\n",
    "<a id=\"toc\"></a>\n",
    "- [Regular Expressions (regex)](#1)\n",
    "- [ Regular Expressions - 2: Walkthrough example](#2)\n",
    "- [Pandas: Extract, Contains in Python using regex](#3)"
   ]
  },
  {
   "cell_type": "markdown",
   "id": "5a35b897-77a4-434b-a222-1664dc3d284a",
   "metadata": {},
   "source": [
    "<a id=\"1\"></a>\n",
    "# **<span style=\"color:#00BFC4;\"> Regular Expressions (regex)  </span>**"
   ]
  },
  {
   "cell_type": "markdown",
   "id": "ded9d3e4-93b3-4a71-9fe0-b48e3e1b93c1",
   "metadata": {},
   "source": [
    "<div style=\"font-size:15px; font-family:verdana;\">In this part you will learn:<br>\n",
    "<ol>\n",
    "    <li>What is a regex?</li>\n",
    "    <li>Why is it needed?</li>\n",
    "    <li>How to create and use a regex?</li> \n",
    "    <li>What are <span style=\"color:green;\">metacharacters</span><b>? <code>. ^ $ * + ? < / { } [ ] | \\ ( )<code></li> \n",
    "    <li>What are <span style=\"color:crimson;\">special sequence</span> lists?</li>\n",
    "    <li>What is a Raw String?and when to use it?</li>\n",
    "    \n",
    "</ol>"
   ]
  },
  {
   "cell_type": "markdown",
   "id": "a7cd0dd6-9b87-48ca-aba6-6fdb5178e17d",
   "metadata": {},
   "source": [
    "`^` : caret"
   ]
  },
  {
   "cell_type": "code",
   "execution_count": 1,
   "id": "7f98c345-24e4-4754-ad75-a6ba07816f0c",
   "metadata": {},
   "outputs": [],
   "source": [
    "import numpy as np\n",
    "import pandas as pd\n",
    "import re"
   ]
  },
  {
   "cell_type": "markdown",
   "id": "a4573905-17b0-4ae9-bcd1-b5ebf5e88d6c",
   "metadata": {},
   "source": [
    "We are going to find patterns"
   ]
  },
  {
   "cell_type": "code",
   "execution_count": 16,
   "id": "72b7fcfb-8dec-4283-a128-c1b82cc44277",
   "metadata": {},
   "outputs": [],
   "source": [
    "# String\n",
    "s = 'dfda& ab&cdeabb& 98 abcd f12_abbbb&gh$[a \\\n",
    "lsjfdlj 1jkfd'"
   ]
  },
  {
   "cell_type": "markdown",
   "id": "ad525a6f-ba2a-42bb-b0c7-333117093815",
   "metadata": {},
   "source": [
    "<div style=\"font-size:15px; font-family:verdana;\">In this part you will learn:<br>\n",
    "<ol>\n",
    "    <b>These are alphanumeric<br>\n",
    "    <code>a-z A-Z 0-9 _<code> <br>\n",
    "    <b>otherwise : non-alphanumeric    "
   ]
  },
  {
   "cell_type": "markdown",
   "id": "d165a3ad-720a-41a0-8ecc-7e3e8f8cddf7",
   "metadata": {},
   "source": [
    "### Methods or commands"
   ]
  },
  {
   "cell_type": "code",
   "execution_count": 17,
   "id": "ac16a6ae-68d5-4e1c-8237-9bcf1884d1e3",
   "metadata": {},
   "outputs": [],
   "source": [
    "# Thats the pattern that we are looking at\n",
    "p = 'a&'"
   ]
  },
  {
   "cell_type": "code",
   "execution_count": 18,
   "id": "1b98bc2a-e1d8-45ea-addf-cb0ef6db3700",
   "metadata": {},
   "outputs": [
    {
     "name": "stdout",
     "output_type": "stream",
     "text": [
      "None\n"
     ]
    }
   ],
   "source": [
    "# p : pattern\n",
    "# s : string\n",
    "m = re.match(p, s)        # returns : objects ; looks at the beginning of a string\n",
    "print(m)"
   ]
  },
  {
   "cell_type": "code",
   "execution_count": 6,
   "id": "014411db-495d-4661-baca-53737505977c",
   "metadata": {},
   "outputs": [
    {
     "name": "stdout",
     "output_type": "stream",
     "text": [
      "None\n"
     ]
    }
   ],
   "source": [
    "print(m)"
   ]
  },
  {
   "cell_type": "code",
   "execution_count": 7,
   "id": "ef86dedc-b0f2-45b0-a137-30a9697e6658",
   "metadata": {},
   "outputs": [],
   "source": [
    "# String\n",
    "s = 'a& ab&cdeabb& 98 abcd f12_abbbb&gh$[a \\\n",
    "lsjfdlj 1jkfd'"
   ]
  },
  {
   "cell_type": "code",
   "execution_count": 8,
   "id": "1bbd510b-fb7c-4dc7-bc59-6b247747a378",
   "metadata": {},
   "outputs": [
    {
     "name": "stdout",
     "output_type": "stream",
     "text": [
      "<re.Match object; span=(0, 2), match='a&'>\n"
     ]
    }
   ],
   "source": [
    "m = re.match(p, s)\n",
    "print(m)"
   ]
  },
  {
   "cell_type": "markdown",
   "id": "b9864bca-0b90-4b3f-bfdf-192bf718bf6e",
   "metadata": {},
   "source": [
    "span(starting position, end position)"
   ]
  },
  {
   "cell_type": "code",
   "execution_count": 10,
   "id": "70525e8a-0af1-4527-8cee-c98534bf86b0",
   "metadata": {},
   "outputs": [
    {
     "data": {
      "text/plain": [
       "'a& ab&cdeabb& 98 abcd f12_abbbb&gh$[a lsjfdlj 1jkfd'"
      ]
     },
     "execution_count": 10,
     "metadata": {},
     "output_type": "execute_result"
    }
   ],
   "source": [
    "s"
   ]
  },
  {
   "cell_type": "code",
   "execution_count": 13,
   "id": "1aa48366-ff80-4fd9-aec6-6ca2f364740d",
   "metadata": {},
   "outputs": [
    {
     "name": "stdout",
     "output_type": "stream",
     "text": [
      "group :  a&\n",
      "start point :  0\n",
      "end point :  2\n",
      "span :  (0, 2)\n"
     ]
    }
   ],
   "source": [
    "print('group : ', m.group())\n",
    "print('start point : ', m.start())\n",
    "print('end point : ', m.end())\n",
    "print('span : ', m.span())"
   ]
  },
  {
   "cell_type": "markdown",
   "id": "5ae650ec-57a2-402b-ba98-78213c190a80",
   "metadata": {},
   "source": [
    "### search()"
   ]
  },
  {
   "cell_type": "code",
   "execution_count": 19,
   "id": "8b64484d-533f-4ff5-a393-866265e9c78d",
   "metadata": {},
   "outputs": [],
   "source": [
    "sr = re.search(p, s)          # object ; looks through entire string and return the 1st time it occures"
   ]
  },
  {
   "cell_type": "code",
   "execution_count": 20,
   "id": "8f8fe733-7431-469c-9dd5-546a3f26b0a7",
   "metadata": {},
   "outputs": [
    {
     "name": "stdout",
     "output_type": "stream",
     "text": [
      "group :  a&\n",
      "start point :  3\n",
      "end point :  5\n",
      "span :  (3, 5)\n"
     ]
    }
   ],
   "source": [
    "print('group : ', sr.group())\n",
    "print('start point : ', sr.start())\n",
    "print('end point : ', sr.end())\n",
    "print('span : ', sr.span())"
   ]
  },
  {
   "cell_type": "code",
   "execution_count": 33,
   "id": "f0324efe-904e-4fde-a076-810bbceb9c4a",
   "metadata": {},
   "outputs": [],
   "source": [
    "s1 = 'dfd ab&cda& eaa&bb& 98 abcd f12_aba& bbb&gh$[a lsjfa& dlj 1jkfd'"
   ]
  },
  {
   "cell_type": "code",
   "execution_count": 31,
   "id": "4c699be1-1256-444e-9e90-be8cedb189b7",
   "metadata": {},
   "outputs": [
    {
     "name": "stdout",
     "output_type": "stream",
     "text": [
      "None\n"
     ]
    }
   ],
   "source": [
    "print(re.match(p, s1))"
   ]
  },
  {
   "cell_type": "markdown",
   "id": "2261a272-4cb3-42f8-8c39-59e76920fb0c",
   "metadata": {},
   "source": [
    "returns `None` because there is **nothing** at the beginning of the string."
   ]
  },
  {
   "cell_type": "code",
   "execution_count": 34,
   "id": "01a650a8-2015-4662-a22b-d68cd2eb1a70",
   "metadata": {},
   "outputs": [
    {
     "data": {
      "text/plain": [
       "<re.Match object; span=(9, 11), match='a&'>"
      ]
     },
     "execution_count": 34,
     "metadata": {},
     "output_type": "execute_result"
    }
   ],
   "source": [
    "re.search(p, s1)"
   ]
  },
  {
   "cell_type": "markdown",
   "id": "e62aad77-ac48-4879-af87-13487d035a3c",
   "metadata": {},
   "source": [
    "### findall()"
   ]
  },
  {
   "cell_type": "markdown",
   "id": "62fc21f2-0a63-4bfc-8377-ec718c6a470b",
   "metadata": {},
   "source": [
    "It returns a list of all matches for that particular pattern in the string."
   ]
  },
  {
   "cell_type": "code",
   "execution_count": 36,
   "id": "7e970e47-9ad8-48aa-b68d-f02254c2cb4b",
   "metadata": {},
   "outputs": [],
   "source": [
    "f = re.findall(p, s1)      # returns list ; looks through entire string"
   ]
  },
  {
   "cell_type": "code",
   "execution_count": 37,
   "id": "495ca2f8-39f6-4b82-851a-e03e72073eec",
   "metadata": {},
   "outputs": [
    {
     "data": {
      "text/plain": [
       "['a&', 'a&', 'a&', 'a&']"
      ]
     },
     "execution_count": 37,
     "metadata": {},
     "output_type": "execute_result"
    }
   ],
   "source": [
    "f"
   ]
  },
  {
   "cell_type": "markdown",
   "id": "72fdd7a9-e1c6-4f62-9c95-42cda2c4309c",
   "metadata": {},
   "source": [
    "### finditer()"
   ]
  },
  {
   "cell_type": "code",
   "execution_count": 42,
   "id": "5e918f39-d978-45c0-b256-5fc30e974d57",
   "metadata": {},
   "outputs": [
    {
     "name": "stdout",
     "output_type": "stream",
     "text": [
      "group :  a&\n",
      "start point :  9\n",
      "end point :  11\n",
      "span :  (9, 11) \n",
      "\n",
      "group :  a&\n",
      "start point :  14\n",
      "end point :  16\n",
      "span :  (14, 16) \n",
      "\n",
      "group :  a&\n",
      "start point :  34\n",
      "end point :  36\n",
      "span :  (34, 36) \n",
      "\n",
      "group :  a&\n",
      "start point :  51\n",
      "end point :  53\n",
      "span :  (51, 53) \n",
      "\n"
     ]
    }
   ],
   "source": [
    "m = re.finditer(p, s1)\n",
    "for i in m:\n",
    "    print('group : ', i.group())\n",
    "    print('start point : ', i.start())\n",
    "    print('end point : ', i.end())\n",
    "    print('span : ', i.span(), '\\n')"
   ]
  },
  {
   "cell_type": "markdown",
   "id": "d0e7348a-d138-4033-bae7-d900202cb82c",
   "metadata": {},
   "source": [
    "### How metacharacters work"
   ]
  },
  {
   "cell_type": "code",
   "execution_count": 49,
   "id": "c6e9037d-1f1a-4ed0-b4ea-46257fbcb570",
   "metadata": {},
   "outputs": [],
   "source": [
    "# String\n",
    "s = 'a& dfd ab&cdeabb& 98 abcd f12_abbbb&gh$[a \\\n",
    "lsjfdlj 1jkfd'"
   ]
  },
  {
   "cell_type": "code",
   "execution_count": 46,
   "id": "d062f4df-6b7d-435b-8580-dfd90ac8cccc",
   "metadata": {},
   "outputs": [],
   "source": [
    "p = 'a&'"
   ]
  },
  {
   "cell_type": "code",
   "execution_count": 50,
   "id": "ca0dcd97-7ce4-4b97-af73-6cf44fb8b05a",
   "metadata": {},
   "outputs": [
    {
     "data": {
      "text/plain": [
       "['a&']"
      ]
     },
     "execution_count": 50,
     "metadata": {},
     "output_type": "execute_result"
    }
   ],
   "source": [
    "re.findall(p, s)"
   ]
  },
  {
   "cell_type": "code",
   "execution_count": 51,
   "id": "d867fe08-4221-44ba-abad-d5eb3fe2909a",
   "metadata": {},
   "outputs": [
    {
     "data": {
      "text/plain": [
       "['a',\n",
       " 'a',\n",
       " 'b',\n",
       " 'c',\n",
       " 'a',\n",
       " 'b',\n",
       " 'b',\n",
       " 'a',\n",
       " 'b',\n",
       " 'c',\n",
       " 'a',\n",
       " 'b',\n",
       " 'b',\n",
       " 'b',\n",
       " 'b',\n",
       " 'a']"
      ]
     },
     "execution_count": 51,
     "metadata": {},
     "output_type": "execute_result"
    }
   ],
   "source": [
    "p = '[abc]'\n",
    "re.findall(p, s)"
   ]
  },
  {
   "cell_type": "markdown",
   "id": "bdfc5351-6198-450d-8165-b7b6dfa05159",
   "metadata": {},
   "source": [
    "We get list of all Characters a,b,c that exist in that particular string."
   ]
  },
  {
   "cell_type": "code",
   "execution_count": 52,
   "id": "bd0e23e7-7439-4478-8561-b8fd3b67a53c",
   "metadata": {},
   "outputs": [
    {
     "data": {
      "text/plain": [
       "(0, 1)"
      ]
     },
     "execution_count": 52,
     "metadata": {},
     "output_type": "execute_result"
    }
   ],
   "source": [
    "re.match(p, s).span()"
   ]
  },
  {
   "cell_type": "code",
   "execution_count": 56,
   "id": "3a281380-ef84-4f0e-8882-306e1c27e9ba",
   "metadata": {},
   "outputs": [
    {
     "data": {
      "text/plain": [
       "['a',\n",
       " 'a',\n",
       " 'b',\n",
       " 'c',\n",
       " 'a',\n",
       " 'b',\n",
       " 'b',\n",
       " 'a',\n",
       " 'b',\n",
       " 'c',\n",
       " 'a',\n",
       " 'b',\n",
       " 'b',\n",
       " 'b',\n",
       " 'b',\n",
       " 'a']"
      ]
     },
     "execution_count": 56,
     "metadata": {},
     "output_type": "execute_result"
    }
   ],
   "source": [
    "re.findall(p, s)"
   ]
  },
  {
   "cell_type": "code",
   "execution_count": 58,
   "id": "38580825-e3eb-47f2-afda-63cf61db6f9e",
   "metadata": {},
   "outputs": [
    {
     "data": {
      "text/plain": [
       "'a& dfd ab&cdeabb& 98 abcd f12_abbbb&gh$[a lsjfdlj 1jkfd'"
      ]
     },
     "execution_count": 58,
     "metadata": {},
     "output_type": "execute_result"
    }
   ],
   "source": [
    "s = 'a& dfd ab&cdeabb& 98 abcd f12_abbbb&gh$[a \\\n",
    "lsjfdlj 1jkfd'\n",
    "s"
   ]
  },
  {
   "cell_type": "code",
   "execution_count": 57,
   "id": "483bed27-218d-4116-a0d6-181fe2fc0051",
   "metadata": {},
   "outputs": [
    {
     "data": {
      "text/plain": [
       "['a',\n",
       " 'a',\n",
       " 'b',\n",
       " 'c',\n",
       " 'a',\n",
       " 'b',\n",
       " 'b',\n",
       " 'a',\n",
       " 'b',\n",
       " 'c',\n",
       " 'a',\n",
       " 'b',\n",
       " 'b',\n",
       " 'b',\n",
       " 'b',\n",
       " 'a']"
      ]
     },
     "execution_count": 57,
     "metadata": {},
     "output_type": "execute_result"
    }
   ],
   "source": [
    "p = '[a-c]'       # a-c : tells find everything in that range\n",
    "re.findall(p, s)"
   ]
  },
  {
   "cell_type": "code",
   "execution_count": 59,
   "id": "4232ba4d-d2d0-4383-ad99-2ff7fb3566f7",
   "metadata": {},
   "outputs": [
    {
     "data": {
      "text/plain": [
       "['9', '8', '1', '2', '1']"
      ]
     },
     "execution_count": 59,
     "metadata": {},
     "output_type": "execute_result"
    }
   ],
   "source": [
    "p = '[1-9]'      \n",
    "re.findall(p, s)"
   ]
  },
  {
   "cell_type": "code",
   "execution_count": 60,
   "id": "419a916b-0844-4e18-a9e6-67e291231b4f",
   "metadata": {},
   "outputs": [
    {
     "data": {
      "text/plain": [
       "['9', '8']"
      ]
     },
     "execution_count": 60,
     "metadata": {},
     "output_type": "execute_result"
    }
   ],
   "source": [
    "p = '[7-9]'      \n",
    "re.findall(p, s)"
   ]
  },
  {
   "cell_type": "code",
   "execution_count": 63,
   "id": "ac5eaccd-9031-41cd-94fa-6c70b9bc527f",
   "metadata": {},
   "outputs": [
    {
     "data": {
      "text/plain": [
       "['$']"
      ]
     },
     "execution_count": 63,
     "metadata": {},
     "output_type": "execute_result"
    }
   ],
   "source": [
    "p = '\\$'      \n",
    "re.findall(p, s)"
   ]
  },
  {
   "cell_type": "markdown",
   "id": "db8a3942-b80e-411e-b1d4-53574aeddabe",
   "metadata": {},
   "source": [
    "because `$` is a metacharacters , we use \\ before $ for searching all this sign in the text"
   ]
  },
  {
   "cell_type": "code",
   "execution_count": 65,
   "id": "1f147c98-a020-45c5-a038-4f19ebece30d",
   "metadata": {},
   "outputs": [
    {
     "data": {
      "text/plain": [
       "'a& dfd ab&cdeabb& 98 abcd f12_abbbb&gh$[a lsjfdlj 1jkfd'"
      ]
     },
     "execution_count": 65,
     "metadata": {},
     "output_type": "execute_result"
    }
   ],
   "source": [
    "s"
   ]
  },
  {
   "cell_type": "code",
   "execution_count": 68,
   "id": "8a829c71-d3aa-4fe7-8d4d-4df850b1dd1a",
   "metadata": {},
   "outputs": [
    {
     "data": {
      "text/plain": [
       "<re.Match object; span=(38, 39), match='$'>"
      ]
     },
     "execution_count": 68,
     "metadata": {},
     "output_type": "execute_result"
    }
   ],
   "source": [
    "p = '\\$'      \n",
    "re.search(p, s)"
   ]
  },
  {
   "cell_type": "code",
   "execution_count": 69,
   "id": "dc37cbe7-5bee-4d4e-a71b-a49d330d4d3f",
   "metadata": {},
   "outputs": [
    {
     "data": {
      "text/plain": [
       "<re.Match object; span=(39, 40), match='['>"
      ]
     },
     "execution_count": 69,
     "metadata": {},
     "output_type": "execute_result"
    }
   ],
   "source": [
    "p = '\\['      \n",
    "re.search(p, s)"
   ]
  },
  {
   "cell_type": "code",
   "execution_count": 70,
   "id": "5babeac6-90a9-4367-b7f0-359d59556cb6",
   "metadata": {},
   "outputs": [
    {
     "data": {
      "text/plain": [
       "<re.Match object; span=(38, 39), match='$'>"
      ]
     },
     "execution_count": 70,
     "metadata": {},
     "output_type": "execute_result"
    }
   ],
   "source": [
    "p = '[$]'      \n",
    "re.search(p, s)"
   ]
  },
  {
   "cell_type": "markdown",
   "id": "4ec77021-5fcf-40f5-804f-16a3dcccc4e7",
   "metadata": {},
   "source": [
    "if we put **metacharacters** onto [  ] , it losses its prpperty of metacharacter"
   ]
  },
  {
   "cell_type": "markdown",
   "id": "d911eeab-2a59-4231-9d81-264450bac857",
   "metadata": {},
   "source": [
    "### caret `^`"
   ]
  },
  {
   "cell_type": "markdown",
   "id": "d769f8d2-d1ef-40f1-840c-094c7ca1bb9f",
   "metadata": {},
   "source": [
    "<li> Caret tells us that the string started with a"
   ]
  },
  {
   "cell_type": "code",
   "execution_count": 73,
   "id": "24c6846e-ddc8-48fc-9cda-cd4fbb6e8257",
   "metadata": {},
   "outputs": [
    {
     "data": {
      "text/plain": [
       "<re.Match object; span=(0, 1), match='a'>"
      ]
     },
     "execution_count": 73,
     "metadata": {},
     "output_type": "execute_result"
    }
   ],
   "source": [
    "p = '^a'      \n",
    "re.search(p, s)"
   ]
  },
  {
   "cell_type": "code",
   "execution_count": 75,
   "id": "b2a70919-3215-4a0d-a895-6d0a35d984ef",
   "metadata": {},
   "outputs": [
    {
     "data": {
      "text/plain": [
       "<re.Match object; span=(1, 2), match='&'>"
      ]
     },
     "execution_count": 75,
     "metadata": {},
     "output_type": "execute_result"
    }
   ],
   "source": [
    "p = '[^a]'      \n",
    "re.search(p, s)"
   ]
  },
  {
   "cell_type": "markdown",
   "id": "b2a0541d-3f5a-4f9a-9045-95a6f9a9313e",
   "metadata": {},
   "source": [
    "[^a] --> find everything except matching a"
   ]
  },
  {
   "cell_type": "markdown",
   "id": "ad3053f1-85ac-4256-83c0-cfd7d9dddf09",
   "metadata": {},
   "source": [
    "## Special sequences"
   ]
  },
  {
   "cell_type": "markdown",
   "id": "76ca9984-5f75-4569-b967-b71c4c56e959",
   "metadata": {},
   "source": [
    "`\\d` : find all the `numbers` in the string"
   ]
  },
  {
   "cell_type": "code",
   "execution_count": 77,
   "id": "afd8d058-1454-4a24-b685-2101fde5a5a8",
   "metadata": {},
   "outputs": [
    {
     "data": {
      "text/plain": [
       "['9', '8', '1', '2', '1']"
      ]
     },
     "execution_count": 77,
     "metadata": {},
     "output_type": "execute_result"
    }
   ],
   "source": [
    "p = '\\d'      \n",
    "re.findall(p, s)"
   ]
  },
  {
   "cell_type": "markdown",
   "id": "02fd4368-e5af-4c04-bad5-fbcf07d24468",
   "metadata": {},
   "source": [
    "`\\D` : find all the characters `except numbers` in the string"
   ]
  },
  {
   "cell_type": "code",
   "execution_count": 78,
   "id": "df0aa6fb-c30b-426f-84fb-2d7c68ae379e",
   "metadata": {},
   "outputs": [
    {
     "data": {
      "text/plain": [
       "['a',\n",
       " '&',\n",
       " ' ',\n",
       " 'd',\n",
       " 'f',\n",
       " 'd',\n",
       " ' ',\n",
       " 'a',\n",
       " 'b',\n",
       " '&',\n",
       " 'c',\n",
       " 'd',\n",
       " 'e',\n",
       " 'a',\n",
       " 'b',\n",
       " 'b',\n",
       " '&',\n",
       " ' ',\n",
       " ' ',\n",
       " 'a',\n",
       " 'b',\n",
       " 'c',\n",
       " 'd',\n",
       " ' ',\n",
       " 'f',\n",
       " '_',\n",
       " 'a',\n",
       " 'b',\n",
       " 'b',\n",
       " 'b',\n",
       " 'b',\n",
       " '&',\n",
       " 'g',\n",
       " 'h',\n",
       " '$',\n",
       " '[',\n",
       " 'a',\n",
       " ' ',\n",
       " 'l',\n",
       " 's',\n",
       " 'j',\n",
       " 'f',\n",
       " 'd',\n",
       " 'l',\n",
       " 'j',\n",
       " ' ',\n",
       " 'j',\n",
       " 'k',\n",
       " 'f',\n",
       " 'd']"
      ]
     },
     "execution_count": 78,
     "metadata": {},
     "output_type": "execute_result"
    }
   ],
   "source": [
    "p = '\\D'      \n",
    "re.findall(p, s)"
   ]
  },
  {
   "cell_type": "markdown",
   "id": "826b2e9b-d995-4963-b660-e25da3ebb7d9",
   "metadata": {},
   "source": [
    "`\\s` : find all the `spaces` in the string"
   ]
  },
  {
   "cell_type": "code",
   "execution_count": 79,
   "id": "95837ca2-b851-41d3-9a7b-89e4c0faa18f",
   "metadata": {},
   "outputs": [
    {
     "data": {
      "text/plain": [
       "[' ', ' ', ' ', ' ', ' ', ' ', ' ']"
      ]
     },
     "execution_count": 79,
     "metadata": {},
     "output_type": "execute_result"
    }
   ],
   "source": [
    "p = '\\s'      \n",
    "re.findall(p, s)"
   ]
  },
  {
   "cell_type": "code",
   "execution_count": 80,
   "id": "b2bcbb95-9f82-4936-92e0-930bd6d59f9d",
   "metadata": {},
   "outputs": [
    {
     "data": {
      "text/plain": [
       "'a& dfd ab&cdeabb& 98 abcd f12_abbbb&gh$[a lsjfdlj 1jkfd'"
      ]
     },
     "execution_count": 80,
     "metadata": {},
     "output_type": "execute_result"
    }
   ],
   "source": [
    "s"
   ]
  },
  {
   "cell_type": "markdown",
   "id": "0e3b8961-8c37-4cb1-93ba-0d792384a867",
   "metadata": {},
   "source": [
    "`\\S` : getting everything back from the string `except spaces`."
   ]
  },
  {
   "cell_type": "code",
   "execution_count": 81,
   "id": "cf807ed0-a9a2-488c-90b2-ba4353bee58a",
   "metadata": {},
   "outputs": [
    {
     "data": {
      "text/plain": [
       "['a',\n",
       " '&',\n",
       " 'd',\n",
       " 'f',\n",
       " 'd',\n",
       " 'a',\n",
       " 'b',\n",
       " '&',\n",
       " 'c',\n",
       " 'd',\n",
       " 'e',\n",
       " 'a',\n",
       " 'b',\n",
       " 'b',\n",
       " '&',\n",
       " '9',\n",
       " '8',\n",
       " 'a',\n",
       " 'b',\n",
       " 'c',\n",
       " 'd',\n",
       " 'f',\n",
       " '1',\n",
       " '2',\n",
       " '_',\n",
       " 'a',\n",
       " 'b',\n",
       " 'b',\n",
       " 'b',\n",
       " 'b',\n",
       " '&',\n",
       " 'g',\n",
       " 'h',\n",
       " '$',\n",
       " '[',\n",
       " 'a',\n",
       " 'l',\n",
       " 's',\n",
       " 'j',\n",
       " 'f',\n",
       " 'd',\n",
       " 'l',\n",
       " 'j',\n",
       " '1',\n",
       " 'j',\n",
       " 'k',\n",
       " 'f',\n",
       " 'd']"
      ]
     },
     "execution_count": 81,
     "metadata": {},
     "output_type": "execute_result"
    }
   ],
   "source": [
    "p = '\\S'      \n",
    "re.findall(p, s)"
   ]
  },
  {
   "cell_type": "markdown",
   "id": "189fe180-8128-434a-9c91-e330c79bf929",
   "metadata": {},
   "source": [
    "`\\w` : returns all the `alphanumeric` characters only."
   ]
  },
  {
   "cell_type": "code",
   "execution_count": 87,
   "id": "df2e6502-3832-4a04-8046-0c2398880c15",
   "metadata": {},
   "outputs": [
    {
     "data": {
      "text/plain": [
       "['a',\n",
       " 'd',\n",
       " 'f',\n",
       " 'd',\n",
       " 'a',\n",
       " 'b',\n",
       " 'c',\n",
       " 'd',\n",
       " 'e',\n",
       " 'a',\n",
       " 'b',\n",
       " 'b',\n",
       " '9',\n",
       " '8',\n",
       " 'a',\n",
       " 'b',\n",
       " 'c',\n",
       " 'd',\n",
       " 'f',\n",
       " '1',\n",
       " '2',\n",
       " '_',\n",
       " 'a',\n",
       " 'b',\n",
       " 'b',\n",
       " 'b',\n",
       " 'b',\n",
       " 'g',\n",
       " 'h',\n",
       " 'a',\n",
       " 'l',\n",
       " 's',\n",
       " 'j',\n",
       " 'f',\n",
       " 'd',\n",
       " 'l',\n",
       " 'j',\n",
       " '1',\n",
       " 'j',\n",
       " 'k',\n",
       " 'f',\n",
       " 'd']"
      ]
     },
     "execution_count": 87,
     "metadata": {},
     "output_type": "execute_result"
    }
   ],
   "source": [
    "p = '\\w'      \n",
    "re.findall(p, s)"
   ]
  },
  {
   "cell_type": "markdown",
   "id": "2e3aa404-2d8b-4b43-b840-926cb4dec6c2",
   "metadata": {},
   "source": [
    "`\\W` : returns all the characters `except alphanumeric` or returns `metacharacters` only."
   ]
  },
  {
   "cell_type": "code",
   "execution_count": 88,
   "id": "ad009421-1090-4fa3-ac2c-2d50045081fa",
   "metadata": {},
   "outputs": [
    {
     "data": {
      "text/plain": [
       "['&', ' ', ' ', '&', '&', ' ', ' ', ' ', '&', '$', '[', ' ', ' ']"
      ]
     },
     "execution_count": 88,
     "metadata": {},
     "output_type": "execute_result"
    }
   ],
   "source": [
    "p = '\\W'      \n",
    "re.findall(p, s)"
   ]
  },
  {
   "cell_type": "markdown",
   "id": "e94bbf48-e03c-4b16-923c-5226bfd06a19",
   "metadata": {},
   "source": [
    "`\\b...` : it tries to find the substring that we have given (for example data)either at the beginning or at the end of the string."
   ]
  },
  {
   "cell_type": "code",
   "execution_count": 92,
   "id": "5976fc21-7fdc-4300-acea-74664654eb57",
   "metadata": {},
   "outputs": [
    {
     "name": "stdout",
     "output_type": "stream",
     "text": [
      "None\n"
     ]
    }
   ],
   "source": [
    "s = 'data science data'\n",
    "p = '\\bdata'\n",
    "print(re.search(p, s))"
   ]
  },
  {
   "cell_type": "code",
   "execution_count": 93,
   "id": "31b2334d-87b3-41a4-87f2-956360d7aaa2",
   "metadata": {},
   "outputs": [
    {
     "data": {
      "text/plain": [
       "<re.Match object; span=(0, 4), match='data'>"
      ]
     },
     "execution_count": 93,
     "metadata": {},
     "output_type": "execute_result"
    }
   ],
   "source": [
    "s = 'data science data'\n",
    "p = r'\\bdata'\n",
    "re.search(p, s)"
   ]
  },
  {
   "cell_type": "code",
   "execution_count": 12,
   "id": "c2f63085-e789-4eba-a49e-63cef200dd1b",
   "metadata": {},
   "outputs": [
    {
     "name": "stdout",
     "output_type": "stream",
     "text": [
      "Alireza\n",
      "b'Alireza'\n",
      "None <class 'str'> \n",
      " None <class 'bytes'>\n"
     ]
    }
   ],
   "source": [
    "s = 'Alireza'\n",
    "a = b'Alireza'\n",
    "\n",
    "print(print(s), type(s), '\\n',print(a), type(a))"
   ]
  },
  {
   "cell_type": "markdown",
   "id": "da521a14-7df3-4210-b3cb-dfb5e8845c5e",
   "metadata": {},
   "source": [
    "`\\b` : in python has another meaning,so we have to make it as a **`**raw string**`**<br>therefore we have to put `r` in front of the string<br>for example : **r**' \\bdata'"
   ]
  },
  {
   "cell_type": "markdown",
   "id": "08463b97-1fa1-4611-acfe-8188ac72f143",
   "metadata": {},
   "source": [
    "# Metacharacters : Repeats"
   ]
  },
  {
   "cell_type": "code",
   "execution_count": 97,
   "id": "20751786-6dca-4756-bb54-5d81c4e916e9",
   "metadata": {},
   "outputs": [
    {
     "data": {
      "text/plain": [
       "'a& ab&cdeabb& 98 abcd f12_abbbb&gh$[a lsjfdlj 1jkfd'"
      ]
     },
     "execution_count": 97,
     "metadata": {},
     "output_type": "execute_result"
    }
   ],
   "source": [
    "s = 'a& ab&cdeabb& 98 abcd f12_abbbb&gh$[a \\\n",
    "lsjfdlj 1jkfd'\n",
    "\n",
    "s"
   ]
  },
  {
   "cell_type": "markdown",
   "id": "52dc418e-4818-48f2-8e14-e81fb8f8deed",
   "metadata": {},
   "source": [
    "### **`*`**"
   ]
  },
  {
   "cell_type": "markdown",
   "id": "59c1d957-0ba2-4505-b455-e6fc71db4273",
   "metadata": {},
   "source": [
    "`'ab*&'` : the match has to `start` with letter A<br>has to `end` with the letter with ampersand(&)<br>in `middle` between those 2 the b can occur\n",
    "zero through infinity times."
   ]
  },
  {
   "cell_type": "code",
   "execution_count": 98,
   "id": "a131c874-c28e-4499-8061-e41fbba6efc7",
   "metadata": {},
   "outputs": [
    {
     "data": {
      "text/plain": [
       "['a&', 'ab&', 'abb&', 'abbbb&']"
      ]
     },
     "execution_count": 98,
     "metadata": {},
     "output_type": "execute_result"
    }
   ],
   "source": [
    "p = 'ab*&'\n",
    "re.findall(p, s)"
   ]
  },
  {
   "cell_type": "markdown",
   "id": "ef67d3a0-5b54-40ee-869c-58a48923c4f3",
   "metadata": {},
   "source": [
    "### **`+`**"
   ]
  },
  {
   "cell_type": "markdown",
   "id": "bbc22859-f8dc-45f4-9d23-31cbdbfedc51",
   "metadata": {},
   "source": [
    "`'ab+&'` : the biggest different between `*` and `+` is it there has to be <span style=\"color:red;\">at least 1</span> b between a and &.\n"
   ]
  },
  {
   "cell_type": "code",
   "execution_count": 99,
   "id": "08f153ad-40eb-48b5-bb52-9394119b31e2",
   "metadata": {},
   "outputs": [
    {
     "data": {
      "text/plain": [
       "['ab&', 'abb&', 'abbbb&']"
      ]
     },
     "execution_count": 99,
     "metadata": {},
     "output_type": "execute_result"
    }
   ],
   "source": [
    "p = 'ab+&'\n",
    "re.findall(p, s)"
   ]
  },
  {
   "cell_type": "markdown",
   "id": "1474723e-b466-4976-b2b6-ac0247d9441d",
   "metadata": {},
   "source": [
    "### **`?`**"
   ]
  },
  {
   "cell_type": "markdown",
   "id": "becd47a2-0875-4a4c-94dc-fae84d0edc24",
   "metadata": {},
   "source": [
    "`?` : its binary<br>the b occurrence has to be either 1 or it can be zero."
   ]
  },
  {
   "cell_type": "code",
   "execution_count": 101,
   "id": "4888e67b-6497-45bc-b7b4-614701ea59d3",
   "metadata": {},
   "outputs": [
    {
     "data": {
      "text/plain": [
       "['a&', 'ab&']"
      ]
     },
     "execution_count": 101,
     "metadata": {},
     "output_type": "execute_result"
    }
   ],
   "source": [
    "p = 'ab?&'\n",
    "re.findall(p, s)"
   ]
  },
  {
   "cell_type": "markdown",
   "id": "8b9f7a5d-69ce-4f31-b7f9-2b4dab0434cd",
   "metadata": {},
   "source": [
    "### **`{ }`**"
   ]
  },
  {
   "cell_type": "markdown",
   "id": "9b92c2af-bd83-49a2-9d60-d83baa7042ad",
   "metadata": {},
   "source": [
    "`{ }` : `'ab{2,3}&'` what this is teling,the number of b that have to be there between a and & <br>\n",
    "minimum 2 b have to be there <br>\n",
    "but not more than 3<br>\n",
    "{minimum , maximum}"
   ]
  },
  {
   "cell_type": "code",
   "execution_count": 103,
   "id": "63dac520-c58b-480b-af30-615525f1fcc3",
   "metadata": {},
   "outputs": [
    {
     "data": {
      "text/plain": [
       "['abb&']"
      ]
     },
     "execution_count": 103,
     "metadata": {},
     "output_type": "execute_result"
    }
   ],
   "source": [
    "p = 'ab{2,3}&'\n",
    "re.findall(p, s)"
   ]
  },
  {
   "cell_type": "markdown",
   "id": "387f030e-6803-4ada-8889-3b6d76058f64",
   "metadata": {},
   "source": [
    "# Match at the end of the string"
   ]
  },
  {
   "cell_type": "markdown",
   "id": "063f770d-a2af-4375-a875-f10325a6bf35",
   "metadata": {},
   "source": [
    "`Dollar($)` : symbol matches the end of the string i.e checks whether the string ends with the given character(s) or not."
   ]
  },
  {
   "cell_type": "code",
   "execution_count": 106,
   "id": "b1f8a5fc-0d50-4047-8603-f4ba51eb4f3c",
   "metadata": {},
   "outputs": [
    {
     "data": {
      "text/plain": [
       "['data']"
      ]
     },
     "execution_count": 106,
     "metadata": {},
     "output_type": "execute_result"
    }
   ],
   "source": [
    "s = 'data1 science data'\n",
    "p = 'data$'\n",
    "re.findall(p, s)"
   ]
  },
  {
   "cell_type": "markdown",
   "id": "4997b87e-397b-4562-9132-38b635723810",
   "metadata": {},
   "source": [
    "### Group"
   ]
  },
  {
   "cell_type": "code",
   "execution_count": 13,
   "id": "163e8771-0f06-44c7-9cfd-1e0f03737d5f",
   "metadata": {},
   "outputs": [],
   "source": [
    "s = 'a& ab&cdeabb& 98 abcd f12_abbbb&gh$[a \\\n",
    "lsjfdlj 1jkfd'"
   ]
  },
  {
   "cell_type": "markdown",
   "id": "3847e947-d489-4b63-bb8f-89a0a9d4b8ed",
   "metadata": {},
   "source": [
    "The group is just using these parantheses to include these conditions."
   ]
  },
  {
   "cell_type": "code",
   "execution_count": 15,
   "id": "8818207d-bdd4-4c48-b106-36dfd571d567",
   "metadata": {},
   "outputs": [
    {
     "data": {
      "text/plain": [
       "['a',\n",
       " 'a',\n",
       " 'b',\n",
       " 'c',\n",
       " 'a',\n",
       " 'b',\n",
       " 'b',\n",
       " 'a',\n",
       " 'b',\n",
       " 'c',\n",
       " 'a',\n",
       " 'b',\n",
       " 'b',\n",
       " 'b',\n",
       " 'b',\n",
       " 'a']"
      ]
     },
     "execution_count": 15,
     "metadata": {},
     "output_type": "execute_result"
    }
   ],
   "source": [
    "p = '(a|b|c)'\n",
    "re.findall(p, s)"
   ]
  },
  {
   "cell_type": "markdown",
   "id": "8b52d7e8-045d-40e5-9568-9a552ce72dbd",
   "metadata": {},
   "source": [
    "group can be used to combine a large number of matches like patterns."
   ]
  },
  {
   "cell_type": "markdown",
   "id": "8ee8ec17-b440-4442-981c-6febdf6f4e79",
   "metadata": {},
   "source": [
    "## Use cases"
   ]
  },
  {
   "cell_type": "code",
   "execution_count": 16,
   "id": "35fa6f2f-5229-4567-9b37-393b248dc267",
   "metadata": {},
   "outputs": [
    {
     "data": {
      "text/plain": [
       "['This', 'is', 'a', 'a', 'Monday']"
      ]
     },
     "execution_count": 16,
     "metadata": {},
     "output_type": "execute_result"
    }
   ],
   "source": [
    "s = 'This is a a Monday'\n",
    "p = '\\s'\n",
    "re.split(p, s)"
   ]
  },
  {
   "cell_type": "code",
   "execution_count": 17,
   "id": "e85fb594-5fab-4bf6-96d3-1936e512a0f6",
   "metadata": {},
   "outputs": [
    {
     "data": {
      "text/plain": [
       "'This*is*a*a*Monday'"
      ]
     },
     "execution_count": 17,
     "metadata": {},
     "output_type": "execute_result"
    }
   ],
   "source": [
    "s = 'This is a a Monday'\n",
    "p = '\\s'\n",
    "\n",
    "re.sub(p, '*', s)          # sub : replace"
   ]
  },
  {
   "cell_type": "code",
   "execution_count": 20,
   "id": "d661a309-73b4-43bd-8502-29a9cc8bd5bc",
   "metadata": {},
   "outputs": [
    {
     "name": "stdout",
     "output_type": "stream",
     "text": [
      "(Replace the pattern with *, The number of times it was replaced) :  ('This*is*a*a*Monday', 4)\n"
     ]
    }
   ],
   "source": [
    "s = 'This is a a Monday'\n",
    "p = '\\s'\n",
    "\n",
    "re.subn(p, '*', s)        # subn : the number of times it was replaced\n",
    "print('(Replace the pattern with *, The number of times it was replaced) : ', re.subn(p, '*', s) )"
   ]
  },
  {
   "cell_type": "markdown",
   "id": "a6d90b27-0e9c-416a-b7c9-3544403bc3a8",
   "metadata": {},
   "source": [
    "## Raw string"
   ]
  },
  {
   "cell_type": "code",
   "execution_count": 21,
   "id": "8997dce4-8248-45d4-8e70-9527634876ec",
   "metadata": {},
   "outputs": [],
   "source": [
    "s = 'today is \\n Monday \\b'"
   ]
  },
  {
   "cell_type": "code",
   "execution_count": 23,
   "id": "b4ec7c92-b311-493d-aa72-35ce777064b5",
   "metadata": {},
   "outputs": [
    {
     "data": {
      "text/plain": [
       "['\\n', '\\x08']"
      ]
     },
     "execution_count": 23,
     "metadata": {},
     "output_type": "execute_result"
    }
   ],
   "source": [
    "p = '[\\n\\b]'\n",
    "re.findall(p, s)"
   ]
  },
  {
   "cell_type": "markdown",
   "id": "6d0d0ddc-2e24-493e-b757-c306a9c21bff",
   "metadata": {},
   "source": [
    "<a id=\"2\"></a>\n",
    "# **<span style=\"color:#00BFC4;\"> Regular Expressions - 2: Walkthrough example  </span>**"
   ]
  },
  {
   "cell_type": "code",
   "execution_count": 24,
   "id": "5a7dd198-0cb6-46e6-a495-4cc36f3d59e3",
   "metadata": {},
   "outputs": [],
   "source": [
    "# Data\n",
    "s = '\\ [***Note***: This is a made up text to explain Regular Expressions in Python. It is NOT real.]\\\n",
    "    This year in 2020, the rainfall in this region of the forest is 2% more than the rest the forest as compared to last year. \\\n",
    "    And the primary reason we think is because of increased tree plantations since the year 2005. \\\n",
    "    Most notably the organizations such as \"Save Forest\", \"Save Planet\", \"Sun & Rain\" have \\\n",
    "    made an important contribution. Annually each of these organizations have planted 1000000, 500000 and 200000 \\\n",
    "    saplings. And about 25% of those have now grown into tall magnificient trees. The survival rate\\\n",
    "    of such saplings is lower because of hot and dry summer temperatures that are upwards of 113 deg F (or 45 deg C).\\\n",
    "    There were 500, 245 and 793 volunteers from each of \\\n",
    "    organizations. The new forest canopy also provides a lush green habitat to support wildlife.\\\n",
    "    We can now see species of birds such as parrots increase in numbers fro 500 to almost 2000.\\\n",
    "    Few species of animals such as monkeys have also grown in population from 200 to around 400.\\\n",
    "    This is all very encouraging, however there still lies one problem. The rest of the forest\\\n",
    "    outside this 1000 sq km has a rocky terrain. Most of the soil was washed out by rain water\\\n",
    "    because there was no vegetation to hold it in place. The lack of vegetation in those area is\\\n",
    "    likely a consequence of rapid deforestation. Over past 5 years, more than 1 trillion trees have been cut down \\\n",
    "    in this forest for various reasons such as global demand for wood, clearing land for large farmlands, and \\\n",
    "    consequently reduced rainfall. The estimated global market for wood has increased from $60 billion in the year 2005 to \\\n",
    "    $300 billion in the year 2020. Therefore, such incresed efforts to plant more trees to save forests and also meet\\\n",
    "    increased demand in global market are needed. Save forests! \\\n",
    "    Contact us: \\\n",
    "    Email: savetree@saveforest.org or Phone: +00-1111-2222 \\\n",
    "    Email: saveblue@saveplanet.org or Phone: +00-3333-4444 \\\n",
    "    Email: bringrain@sunandrain.org or Phone: +00-3333-4444 \\\n",
    "    '"
   ]
  },
  {
   "cell_type": "code",
   "execution_count": 26,
   "id": "7eb3af39-1ce4-4fa3-aeb4-5ed0dfb995bc",
   "metadata": {},
   "outputs": [
    {
     "data": {
      "text/plain": [
       "['\\\\ [***Note***: This is a made up text to explain Regular Expressions in Python. It is NOT real.',\n",
       " '    This year in 2020, the rainfall in this region of the forest is 2% more than the rest the forest as compared to last year.     And the primary reason we think is because of increased tree plantations since the year 2005.     Most notably the organizations such as \"Save Forest\", \"Save Planet\", \"Sun & Rain\" have     made an important contribution. Annually each of these organizations have planted 1000000, 500000 and 200000     saplings. And about 25% of those have now grown into tall magnificient trees. The survival rate    of such saplings is lower because of hot and dry summer temperatures that are upwards of 113 deg F (or 45 deg C).    There were 500, 245 and 793 volunteers from each of     organizations. The new forest canopy also provides a lush green habitat to support wildlife.    We can now see species of birds such as parrots increase in numbers fro 500 to almost 2000.    Few species of animals such as monkeys have also grown in population from 200 to around 400.    This is all very encouraging, however there still lies one problem. The rest of the forest    outside this 1000 sq km has a rocky terrain. Most of the soil was washed out by rain water    because there was no vegetation to hold it in place. The lack of vegetation in those area is    likely a consequence of rapid deforestation. Over past 5 years, more than 1 trillion trees have been cut down     in this forest for various reasons such as global demand for wood, clearing land for large farmlands, and     consequently reduced rainfall. The estimated global market for wood has increased from $60 billion in the year 2005 to     $300 billion in the year 2020. Therefore, such incresed efforts to plant more trees to save forests and also meet    increased demand in global market are needed. Save forests!     Contact us:     Email: savetree@saveforest.org or Phone: +00-1111-2222     Email: saveblue@saveplanet.org or Phone: +00-3333-4444     Email: bringrain@sunandrain.org or Phone: +00-3333-4444     ']"
      ]
     },
     "execution_count": 26,
     "metadata": {},
     "output_type": "execute_result"
    }
   ],
   "source": [
    "p = '\\]'\n",
    "dlist = re.split(p, s)\n",
    "dlist"
   ]
  },
  {
   "cell_type": "markdown",
   "id": "abbb85a8-8860-4233-bf48-266bbb026049",
   "metadata": {},
   "source": [
    "It returns a 2 strings."
   ]
  },
  {
   "cell_type": "code",
   "execution_count": 27,
   "id": "9eb25f7d-219a-4bd9-a7f9-1e22323b895c",
   "metadata": {},
   "outputs": [
    {
     "data": {
      "text/plain": [
       "'\\\\ [***Note***: This is a made up text to explain Regular Expressions in Python. It is NOT real.'"
      ]
     },
     "execution_count": 27,
     "metadata": {},
     "output_type": "execute_result"
    }
   ],
   "source": [
    "d_note = dlist[0]\n",
    "d_note"
   ]
  },
  {
   "cell_type": "code",
   "execution_count": 28,
   "id": "9cb0923e-4753-4073-ba79-af725585481d",
   "metadata": {},
   "outputs": [
    {
     "data": {
      "text/plain": [
       "'    This year in 2020, the rainfall in this region of the forest is 2% more than the rest the forest as compared to last year.     And the primary reason we think is because of increased tree plantations since the year 2005.     Most notably the organizations such as \"Save Forest\", \"Save Planet\", \"Sun & Rain\" have     made an important contribution. Annually each of these organizations have planted 1000000, 500000 and 200000     saplings. And about 25% of those have now grown into tall magnificient trees. The survival rate    of such saplings is lower because of hot and dry summer temperatures that are upwards of 113 deg F (or 45 deg C).    There were 500, 245 and 793 volunteers from each of     organizations. The new forest canopy also provides a lush green habitat to support wildlife.    We can now see species of birds such as parrots increase in numbers fro 500 to almost 2000.    Few species of animals such as monkeys have also grown in population from 200 to around 400.    This is all very encouraging, however there still lies one problem. The rest of the forest    outside this 1000 sq km has a rocky terrain. Most of the soil was washed out by rain water    because there was no vegetation to hold it in place. The lack of vegetation in those area is    likely a consequence of rapid deforestation. Over past 5 years, more than 1 trillion trees have been cut down     in this forest for various reasons such as global demand for wood, clearing land for large farmlands, and     consequently reduced rainfall. The estimated global market for wood has increased from $60 billion in the year 2005 to     $300 billion in the year 2020. Therefore, such incresed efforts to plant more trees to save forests and also meet    increased demand in global market are needed. Save forests!     Contact us:     Email: savetree@saveforest.org or Phone: +00-1111-2222     Email: saveblue@saveplanet.org or Phone: +00-3333-4444     Email: bringrain@sunandrain.org or Phone: +00-3333-4444     '"
      ]
     },
     "execution_count": 28,
     "metadata": {},
     "output_type": "execute_result"
    }
   ],
   "source": [
    "d_text = dlist[1]\n",
    "d_text"
   ]
  },
  {
   "cell_type": "markdown",
   "id": "b7876db6-f4c0-4c82-ade6-66734f36127d",
   "metadata": {},
   "source": [
    "## Remove blank spaces"
   ]
  },
  {
   "cell_type": "code",
   "execution_count": 30,
   "id": "2f2d9f2b-7382-4493-9b89-9b08256150ce",
   "metadata": {},
   "outputs": [
    {
     "data": {
      "text/plain": [
       "' This year in 2020, the rainfall in this region of the forest is 2% more than the rest the forest as compared to last year. And the primary reason we think is because of increased tree plantations since the year 2005. Most notably the organizations such as \"Save Forest\", \"Save Planet\", \"Sun & Rain\" have made an important contribution. Annually each of these organizations have planted 1000000, 500000 and 200000 saplings. And about 25% of those have now grown into tall magnificient trees. The survival rate of such saplings is lower because of hot and dry summer temperatures that are upwards of 113 deg F (or 45 deg C). There were 500, 245 and 793 volunteers from each of organizations. The new forest canopy also provides a lush green habitat to support wildlife. We can now see species of birds such as parrots increase in numbers fro 500 to almost 2000. Few species of animals such as monkeys have also grown in population from 200 to around 400. This is all very encouraging, however there still lies one problem. The rest of the forest outside this 1000 sq km has a rocky terrain. Most of the soil was washed out by rain water because there was no vegetation to hold it in place. The lack of vegetation in those area is likely a consequence of rapid deforestation. Over past 5 years, more than 1 trillion trees have been cut down in this forest for various reasons such as global demand for wood, clearing land for large farmlands, and consequently reduced rainfall. The estimated global market for wood has increased from $60 billion in the year 2005 to $300 billion in the year 2020. Therefore, such incresed efforts to plant more trees to save forests and also meet increased demand in global market are needed. Save forests! Contact us: Email: savetree@saveforest.org or Phone: +00-1111-2222 Email: saveblue@saveplanet.org or Phone: +00-3333-4444 Email: bringrain@sunandrain.org or Phone: +00-3333-4444 '"
      ]
     },
     "execution_count": 30,
     "metadata": {},
     "output_type": "execute_result"
    }
   ],
   "source": [
    "# remove long space\n",
    "p = ' {2,5}'\n",
    "dt = re.sub(p, ' ', d_text)\n",
    "dt"
   ]
  },
  {
   "cell_type": "markdown",
   "id": "00ead2d3-f364-4067-a22b-5f7e01ad84ee",
   "metadata": {},
   "source": [
    "### Get company information"
   ]
  },
  {
   "cell_type": "markdown",
   "id": "ebb1823d-db37-4a8e-bde6-c7c601d66f73",
   "metadata": {},
   "source": [
    "#### <li>Get names"
   ]
  },
  {
   "cell_type": "code",
   "execution_count": 32,
   "id": "b1bb82f3-183b-440f-98da-e10c96b426e9",
   "metadata": {},
   "outputs": [
    {
     "data": {
      "text/plain": [
       "['Save Forest', 'Save Planet', 'Sun & Rain']"
      ]
     },
     "execution_count": 32,
     "metadata": {},
     "output_type": "execute_result"
    }
   ],
   "source": [
    "p = '\"(.+?)\"'\n",
    "cnames = re.findall(p, dt)\n",
    "cnames"
   ]
  },
  {
   "cell_type": "markdown",
   "id": "0c745b14-12bc-4269-a27a-d7f6fd8e2201",
   "metadata": {},
   "source": [
    "#### <li>Get emails"
   ]
  },
  {
   "cell_type": "code",
   "execution_count": 35,
   "id": "7e80d68e-7119-4e2b-b3fa-b98e4f8dadef",
   "metadata": {},
   "outputs": [
    {
     "data": {
      "text/plain": [
       "['savetree@saveforest.org',\n",
       " 'saveblue@saveplanet.org',\n",
       " 'bringrain@sunandrain.org']"
      ]
     },
     "execution_count": 35,
     "metadata": {},
     "output_type": "execute_result"
    }
   ],
   "source": [
    "p = '[a-zA-Z0-9_]+@[a-zA-Z0-9_]+\\.[a-zA-Z0-9_]+'\n",
    "email = re.findall(p, dt)\n",
    "email"
   ]
  },
  {
   "cell_type": "markdown",
   "id": "b48bb3e9-cdee-4eba-b3c9-6351f92e6771",
   "metadata": {},
   "source": [
    "#### <li>Get domain"
   ]
  },
  {
   "cell_type": "code",
   "execution_count": 37,
   "id": "34833631-35d9-48ba-8695-c0984f7df5ea",
   "metadata": {},
   "outputs": [
    {
     "data": {
      "text/plain": [
       "['saveforest.org', 'saveplanet.org', 'sunandrain.org']"
      ]
     },
     "execution_count": 37,
     "metadata": {},
     "output_type": "execute_result"
    }
   ],
   "source": [
    "p = '[a-zA-Z0-9_]+\\.[a-zA-Z0-9_]+'\n",
    "domain = re.findall(p, dt)\n",
    "domain"
   ]
  },
  {
   "cell_type": "markdown",
   "id": "0d76a4e6-7479-42e9-9170-c7a2ec796e73",
   "metadata": {},
   "source": [
    "#### <li>Get number"
   ]
  },
  {
   "cell_type": "code",
   "execution_count": 39,
   "id": "2b16da7b-f4a8-4768-9fb6-2f1b26699a32",
   "metadata": {},
   "outputs": [
    {
     "data": {
      "text/plain": [
       "['+00-1111-2222', '+00-3333-4444', '+00-3333-4444']"
      ]
     },
     "execution_count": 39,
     "metadata": {},
     "output_type": "execute_result"
    }
   ],
   "source": [
    "p = '\\+\\d{2}-\\d{4}-\\d{4}'\n",
    "number = re.findall(p, dt)\n",
    "number"
   ]
  },
  {
   "cell_type": "markdown",
   "id": "e6dfb999-0ea7-4121-8cb2-2299948c6696",
   "metadata": {},
   "source": [
    "#### <li>Get count of sapling"
   ]
  },
  {
   "cell_type": "code",
   "execution_count": 41,
   "id": "857906f4-4ffe-4278-becc-79a89caa0a1a",
   "metadata": {},
   "outputs": [
    {
     "data": {
      "text/plain": [
       "['1000000', '500000', '200000']"
      ]
     },
     "execution_count": 41,
     "metadata": {},
     "output_type": "execute_result"
    }
   ],
   "source": [
    "p = '\\d{5,}'\n",
    "sapling = re.findall(p, dt)\n",
    "sapling"
   ]
  },
  {
   "cell_type": "markdown",
   "id": "cb6b6b22-9552-4f84-b817-afe95ca9ba4b",
   "metadata": {},
   "source": [
    "#### <li>Get volunteer"
   ]
  },
  {
   "cell_type": "code",
   "execution_count": 49,
   "id": "0912ad9c-0106-484c-a987-c5e5e1620ed6",
   "metadata": {},
   "outputs": [
    {
     "data": {
      "text/plain": [
       "['500', '245', '793']"
      ]
     },
     "execution_count": 49,
     "metadata": {},
     "output_type": "execute_result"
    }
   ],
   "source": [
    "p = 'were .* volunteers'\n",
    "r = re.findall(p, dt)[0]\n",
    "\n",
    "p_2 = '\\d{2,}'\n",
    "volunteer = re.findall(p_2, r)\n",
    "volunteer"
   ]
  },
  {
   "cell_type": "code",
   "execution_count": 50,
   "id": "24cd58db-69ea-4771-aaaf-b4aa54b7ab4e",
   "metadata": {},
   "outputs": [
    {
     "data": {
      "text/plain": [
       "['500', '245', '793']"
      ]
     },
     "execution_count": 50,
     "metadata": {},
     "output_type": "execute_result"
    }
   ],
   "source": [
    "p = 'were .* volunteers'\n",
    "r = re.findall(p, dt)[0]\n",
    "\n",
    "p_2 = '\\d+'\n",
    "volunteer = re.findall(p_2, r)\n",
    "volunteer"
   ]
  },
  {
   "cell_type": "markdown",
   "id": "d8b92867-d8d4-4bb0-b620-edc52f5d5fbb",
   "metadata": {},
   "source": [
    "Now ,combine these information and put it into DataFrame."
   ]
  },
  {
   "cell_type": "markdown",
   "id": "ea6719b9-1656-48bf-bb5f-a42fe02c1d73",
   "metadata": {},
   "source": [
    "## Create a company DataFrame"
   ]
  },
  {
   "cell_type": "code",
   "execution_count": 51,
   "id": "2961eb33-ec47-411f-830d-3c87d0d29546",
   "metadata": {},
   "outputs": [
    {
     "data": {
      "text/html": [
       "<div>\n",
       "<style scoped>\n",
       "    .dataframe tbody tr th:only-of-type {\n",
       "        vertical-align: middle;\n",
       "    }\n",
       "\n",
       "    .dataframe tbody tr th {\n",
       "        vertical-align: top;\n",
       "    }\n",
       "\n",
       "    .dataframe thead th {\n",
       "        text-align: right;\n",
       "    }\n",
       "</style>\n",
       "<table border=\"1\" class=\"dataframe\">\n",
       "  <thead>\n",
       "    <tr style=\"text-align: right;\">\n",
       "      <th></th>\n",
       "      <th>company</th>\n",
       "      <th>email</th>\n",
       "      <th>domain</th>\n",
       "      <th>phone</th>\n",
       "      <th>sapling_planted</th>\n",
       "      <th>volunteers</th>\n",
       "    </tr>\n",
       "  </thead>\n",
       "  <tbody>\n",
       "    <tr>\n",
       "      <th>0</th>\n",
       "      <td>Save Forest</td>\n",
       "      <td>savetree@saveforest.org</td>\n",
       "      <td>saveforest.org</td>\n",
       "      <td>+00-1111-2222</td>\n",
       "      <td>1000000</td>\n",
       "      <td>500</td>\n",
       "    </tr>\n",
       "    <tr>\n",
       "      <th>1</th>\n",
       "      <td>Save Planet</td>\n",
       "      <td>saveblue@saveplanet.org</td>\n",
       "      <td>saveplanet.org</td>\n",
       "      <td>+00-3333-4444</td>\n",
       "      <td>500000</td>\n",
       "      <td>245</td>\n",
       "    </tr>\n",
       "    <tr>\n",
       "      <th>2</th>\n",
       "      <td>Sun &amp; Rain</td>\n",
       "      <td>bringrain@sunandrain.org</td>\n",
       "      <td>sunandrain.org</td>\n",
       "      <td>+00-3333-4444</td>\n",
       "      <td>200000</td>\n",
       "      <td>793</td>\n",
       "    </tr>\n",
       "  </tbody>\n",
       "</table>\n",
       "</div>"
      ],
      "text/plain": [
       "       company                     email          domain          phone  \\\n",
       "0  Save Forest   savetree@saveforest.org  saveforest.org  +00-1111-2222   \n",
       "1  Save Planet   saveblue@saveplanet.org  saveplanet.org  +00-3333-4444   \n",
       "2   Sun & Rain  bringrain@sunandrain.org  sunandrain.org  +00-3333-4444   \n",
       "\n",
       "  sapling_planted volunteers  \n",
       "0         1000000        500  \n",
       "1          500000        245  \n",
       "2          200000        793  "
      ]
     },
     "execution_count": 51,
     "metadata": {},
     "output_type": "execute_result"
    }
   ],
   "source": [
    "dfc = pd.DataFrame({\n",
    "    'company' : nmaes,\n",
    "    'email' : email,\n",
    "    'domain' : domain,\n",
    "    'phone': number,\n",
    "    'sapling_planted' : sapling,\n",
    "    'volunteers' : volunteer\n",
    "})\n",
    "\n",
    "dfc"
   ]
  },
  {
   "cell_type": "markdown",
   "id": "3be14d68-338d-4072-9697-7658959e2aed",
   "metadata": {},
   "source": [
    "## DataFrame"
   ]
  },
  {
   "cell_type": "code",
   "execution_count": 56,
   "id": "9333ece1-2830-47be-8915-d4f6460158b7",
   "metadata": {},
   "outputs": [
    {
     "data": {
      "text/html": [
       "<div>\n",
       "<style scoped>\n",
       "    .dataframe tbody tr th:only-of-type {\n",
       "        vertical-align: middle;\n",
       "    }\n",
       "\n",
       "    .dataframe tbody tr th {\n",
       "        vertical-align: top;\n",
       "    }\n",
       "\n",
       "    .dataframe thead th {\n",
       "        text-align: right;\n",
       "    }\n",
       "</style>\n",
       "<table border=\"1\" class=\"dataframe\">\n",
       "  <thead>\n",
       "    <tr style=\"text-align: right;\">\n",
       "      <th></th>\n",
       "      <th>raw</th>\n",
       "    </tr>\n",
       "  </thead>\n",
       "  <tbody>\n",
       "    <tr>\n",
       "      <th>0</th>\n",
       "      <td>This year in 2020, the rainfall in this regio...</td>\n",
       "    </tr>\n",
       "    <tr>\n",
       "      <th>1</th>\n",
       "      <td>And the primary reason we think is because of...</td>\n",
       "    </tr>\n",
       "    <tr>\n",
       "      <th>2</th>\n",
       "      <td>Most notably the organizations such as \"Save ...</td>\n",
       "    </tr>\n",
       "    <tr>\n",
       "      <th>3</th>\n",
       "      <td>Annually each of these organizations have pla...</td>\n",
       "    </tr>\n",
       "    <tr>\n",
       "      <th>4</th>\n",
       "      <td>And about 25% of those have now grown into ta...</td>\n",
       "    </tr>\n",
       "    <tr>\n",
       "      <th>5</th>\n",
       "      <td>The survival rate of such saplings is lower b...</td>\n",
       "    </tr>\n",
       "    <tr>\n",
       "      <th>6</th>\n",
       "      <td>There were 500, 245 and 793 volunteers from e...</td>\n",
       "    </tr>\n",
       "    <tr>\n",
       "      <th>7</th>\n",
       "      <td>The new forest canopy also provides a lush gr...</td>\n",
       "    </tr>\n",
       "    <tr>\n",
       "      <th>8</th>\n",
       "      <td>We can now see species of birds such as parro...</td>\n",
       "    </tr>\n",
       "    <tr>\n",
       "      <th>9</th>\n",
       "      <td>Few species of animals such as monkeys have a...</td>\n",
       "    </tr>\n",
       "    <tr>\n",
       "      <th>10</th>\n",
       "      <td>This is all very encouraging, however there s...</td>\n",
       "    </tr>\n",
       "    <tr>\n",
       "      <th>11</th>\n",
       "      <td>The rest of the forest outside this 1000 sq k...</td>\n",
       "    </tr>\n",
       "    <tr>\n",
       "      <th>12</th>\n",
       "      <td>Most of the soil was washed out by rain water...</td>\n",
       "    </tr>\n",
       "    <tr>\n",
       "      <th>13</th>\n",
       "      <td>The lack of vegetation in those area is likel...</td>\n",
       "    </tr>\n",
       "    <tr>\n",
       "      <th>14</th>\n",
       "      <td>Over past 5 years, more than 1 trillion trees...</td>\n",
       "    </tr>\n",
       "    <tr>\n",
       "      <th>15</th>\n",
       "      <td>The estimated global market for wood has incr...</td>\n",
       "    </tr>\n",
       "    <tr>\n",
       "      <th>16</th>\n",
       "      <td>Therefore, such incresed efforts to plant mor...</td>\n",
       "    </tr>\n",
       "    <tr>\n",
       "      <th>17</th>\n",
       "      <td>Save forests! Contact us: Email: savetree@sav...</td>\n",
       "    </tr>\n",
       "    <tr>\n",
       "      <th>18</th>\n",
       "      <td>org or Phone: +00-1111-2222 Email: saveblue@sa...</td>\n",
       "    </tr>\n",
       "    <tr>\n",
       "      <th>19</th>\n",
       "      <td>org or Phone: +00-3333-4444 Email: bringrain@s...</td>\n",
       "    </tr>\n",
       "    <tr>\n",
       "      <th>20</th>\n",
       "      <td>org or Phone: +00-3333-4444</td>\n",
       "    </tr>\n",
       "  </tbody>\n",
       "</table>\n",
       "</div>"
      ],
      "text/plain": [
       "                                                  raw\n",
       "0    This year in 2020, the rainfall in this regio...\n",
       "1    And the primary reason we think is because of...\n",
       "2    Most notably the organizations such as \"Save ...\n",
       "3    Annually each of these organizations have pla...\n",
       "4    And about 25% of those have now grown into ta...\n",
       "5    The survival rate of such saplings is lower b...\n",
       "6    There were 500, 245 and 793 volunteers from e...\n",
       "7    The new forest canopy also provides a lush gr...\n",
       "8    We can now see species of birds such as parro...\n",
       "9    Few species of animals such as monkeys have a...\n",
       "10   This is all very encouraging, however there s...\n",
       "11   The rest of the forest outside this 1000 sq k...\n",
       "12   Most of the soil was washed out by rain water...\n",
       "13   The lack of vegetation in those area is likel...\n",
       "14   Over past 5 years, more than 1 trillion trees...\n",
       "15   The estimated global market for wood has incr...\n",
       "16   Therefore, such incresed efforts to plant mor...\n",
       "17   Save forests! Contact us: Email: savetree@sav...\n",
       "18  org or Phone: +00-1111-2222 Email: saveblue@sa...\n",
       "19  org or Phone: +00-3333-4444 Email: bringrain@s...\n",
       "20                       org or Phone: +00-3333-4444 "
      ]
     },
     "execution_count": 56,
     "metadata": {},
     "output_type": "execute_result"
    }
   ],
   "source": [
    "p = '\\.'\n",
    "x = re.split(p, dt)\n",
    "\n",
    "dfl = pd.DataFrame({\n",
    "    'raw' : x\n",
    "})\n",
    "dfl"
   ]
  },
  {
   "cell_type": "code",
   "execution_count": 74,
   "id": "ab5ae5e0-c4b2-44e3-8b41-50cc1fa23150",
   "metadata": {},
   "outputs": [],
   "source": [
    "dfl['billion_$'] = dfl['raw'].apply(lambda x : re.findall('\\$\\d+', x) if ('$' in x) else np.nan)\n",
    "dfl['reasons'] = dfl['raw'].apply(lambda x : re.split('because ', x)[1] if ('because' in x) else np.nan)\n",
    "dfl['birds'] = dfl['raw'].apply(lambda x : re.split('birds ', x)[1] if ('birds' in x) else np.nan)\n",
    "dfl['animals'] = dfl['raw'].apply(lambda x : re.split('animals ', x)[1] if ('animals' in x) else np.nan)\n",
    "dfl['years'] = dfl['raw'].apply(lambda x : re.findall('\\d{4}', x) if(('years' in x) | ('year' in x)) else np.nan)"
   ]
  },
  {
   "cell_type": "markdown",
   "id": "a294c013-d4dc-43e7-9d5b-ffcb9ab4cc16",
   "metadata": {},
   "source": [
    "if we don't put [1],it returns lists of sample."
   ]
  },
  {
   "cell_type": "code",
   "execution_count": 75,
   "id": "afea17cd-eaa4-488b-aa97-12864159067c",
   "metadata": {},
   "outputs": [
    {
     "data": {
      "text/html": [
       "<div>\n",
       "<style scoped>\n",
       "    .dataframe tbody tr th:only-of-type {\n",
       "        vertical-align: middle;\n",
       "    }\n",
       "\n",
       "    .dataframe tbody tr th {\n",
       "        vertical-align: top;\n",
       "    }\n",
       "\n",
       "    .dataframe thead th {\n",
       "        text-align: right;\n",
       "    }\n",
       "</style>\n",
       "<table border=\"1\" class=\"dataframe\">\n",
       "  <thead>\n",
       "    <tr style=\"text-align: right;\">\n",
       "      <th></th>\n",
       "      <th>raw</th>\n",
       "      <th>billion_$</th>\n",
       "      <th>reasons</th>\n",
       "      <th>birds</th>\n",
       "      <th>animals</th>\n",
       "      <th>years</th>\n",
       "    </tr>\n",
       "  </thead>\n",
       "  <tbody>\n",
       "    <tr>\n",
       "      <th>0</th>\n",
       "      <td>This year in 2020, the rainfall in this regio...</td>\n",
       "      <td>NaN</td>\n",
       "      <td>NaN</td>\n",
       "      <td>NaN</td>\n",
       "      <td>NaN</td>\n",
       "      <td>[2020]</td>\n",
       "    </tr>\n",
       "    <tr>\n",
       "      <th>1</th>\n",
       "      <td>And the primary reason we think is because of...</td>\n",
       "      <td>NaN</td>\n",
       "      <td>of increased tree plantations since the year 2005</td>\n",
       "      <td>NaN</td>\n",
       "      <td>NaN</td>\n",
       "      <td>[2005]</td>\n",
       "    </tr>\n",
       "    <tr>\n",
       "      <th>2</th>\n",
       "      <td>Most notably the organizations such as \"Save ...</td>\n",
       "      <td>NaN</td>\n",
       "      <td>NaN</td>\n",
       "      <td>NaN</td>\n",
       "      <td>NaN</td>\n",
       "      <td>NaN</td>\n",
       "    </tr>\n",
       "    <tr>\n",
       "      <th>3</th>\n",
       "      <td>Annually each of these organizations have pla...</td>\n",
       "      <td>NaN</td>\n",
       "      <td>NaN</td>\n",
       "      <td>NaN</td>\n",
       "      <td>NaN</td>\n",
       "      <td>NaN</td>\n",
       "    </tr>\n",
       "    <tr>\n",
       "      <th>4</th>\n",
       "      <td>And about 25% of those have now grown into ta...</td>\n",
       "      <td>NaN</td>\n",
       "      <td>NaN</td>\n",
       "      <td>NaN</td>\n",
       "      <td>NaN</td>\n",
       "      <td>NaN</td>\n",
       "    </tr>\n",
       "    <tr>\n",
       "      <th>5</th>\n",
       "      <td>The survival rate of such saplings is lower b...</td>\n",
       "      <td>NaN</td>\n",
       "      <td>of hot and dry summer temperatures that are up...</td>\n",
       "      <td>NaN</td>\n",
       "      <td>NaN</td>\n",
       "      <td>NaN</td>\n",
       "    </tr>\n",
       "    <tr>\n",
       "      <th>6</th>\n",
       "      <td>There were 500, 245 and 793 volunteers from e...</td>\n",
       "      <td>NaN</td>\n",
       "      <td>NaN</td>\n",
       "      <td>NaN</td>\n",
       "      <td>NaN</td>\n",
       "      <td>NaN</td>\n",
       "    </tr>\n",
       "    <tr>\n",
       "      <th>7</th>\n",
       "      <td>The new forest canopy also provides a lush gr...</td>\n",
       "      <td>NaN</td>\n",
       "      <td>NaN</td>\n",
       "      <td>NaN</td>\n",
       "      <td>NaN</td>\n",
       "      <td>NaN</td>\n",
       "    </tr>\n",
       "    <tr>\n",
       "      <th>8</th>\n",
       "      <td>We can now see species of birds such as parro...</td>\n",
       "      <td>NaN</td>\n",
       "      <td>NaN</td>\n",
       "      <td>such as parrots increase in numbers fro 500 to...</td>\n",
       "      <td>NaN</td>\n",
       "      <td>NaN</td>\n",
       "    </tr>\n",
       "    <tr>\n",
       "      <th>9</th>\n",
       "      <td>Few species of animals such as monkeys have a...</td>\n",
       "      <td>NaN</td>\n",
       "      <td>NaN</td>\n",
       "      <td>NaN</td>\n",
       "      <td>such as monkeys have also grown in population ...</td>\n",
       "      <td>NaN</td>\n",
       "    </tr>\n",
       "    <tr>\n",
       "      <th>10</th>\n",
       "      <td>This is all very encouraging, however there s...</td>\n",
       "      <td>NaN</td>\n",
       "      <td>NaN</td>\n",
       "      <td>NaN</td>\n",
       "      <td>NaN</td>\n",
       "      <td>NaN</td>\n",
       "    </tr>\n",
       "    <tr>\n",
       "      <th>11</th>\n",
       "      <td>The rest of the forest outside this 1000 sq k...</td>\n",
       "      <td>NaN</td>\n",
       "      <td>NaN</td>\n",
       "      <td>NaN</td>\n",
       "      <td>NaN</td>\n",
       "      <td>NaN</td>\n",
       "    </tr>\n",
       "    <tr>\n",
       "      <th>12</th>\n",
       "      <td>Most of the soil was washed out by rain water...</td>\n",
       "      <td>NaN</td>\n",
       "      <td>there was no vegetation to hold it in place</td>\n",
       "      <td>NaN</td>\n",
       "      <td>NaN</td>\n",
       "      <td>NaN</td>\n",
       "    </tr>\n",
       "    <tr>\n",
       "      <th>13</th>\n",
       "      <td>The lack of vegetation in those area is likel...</td>\n",
       "      <td>NaN</td>\n",
       "      <td>NaN</td>\n",
       "      <td>NaN</td>\n",
       "      <td>NaN</td>\n",
       "      <td>NaN</td>\n",
       "    </tr>\n",
       "    <tr>\n",
       "      <th>14</th>\n",
       "      <td>Over past 5 years, more than 1 trillion trees...</td>\n",
       "      <td>NaN</td>\n",
       "      <td>NaN</td>\n",
       "      <td>NaN</td>\n",
       "      <td>NaN</td>\n",
       "      <td>[]</td>\n",
       "    </tr>\n",
       "    <tr>\n",
       "      <th>15</th>\n",
       "      <td>The estimated global market for wood has incr...</td>\n",
       "      <td>[$60, $300]</td>\n",
       "      <td>NaN</td>\n",
       "      <td>NaN</td>\n",
       "      <td>NaN</td>\n",
       "      <td>[2005, 2020]</td>\n",
       "    </tr>\n",
       "    <tr>\n",
       "      <th>16</th>\n",
       "      <td>Therefore, such incresed efforts to plant mor...</td>\n",
       "      <td>NaN</td>\n",
       "      <td>NaN</td>\n",
       "      <td>NaN</td>\n",
       "      <td>NaN</td>\n",
       "      <td>NaN</td>\n",
       "    </tr>\n",
       "    <tr>\n",
       "      <th>17</th>\n",
       "      <td>Save forests! Contact us: Email: savetree@sav...</td>\n",
       "      <td>NaN</td>\n",
       "      <td>NaN</td>\n",
       "      <td>NaN</td>\n",
       "      <td>NaN</td>\n",
       "      <td>NaN</td>\n",
       "    </tr>\n",
       "    <tr>\n",
       "      <th>18</th>\n",
       "      <td>org or Phone: +00-1111-2222 Email: saveblue@sa...</td>\n",
       "      <td>NaN</td>\n",
       "      <td>NaN</td>\n",
       "      <td>NaN</td>\n",
       "      <td>NaN</td>\n",
       "      <td>NaN</td>\n",
       "    </tr>\n",
       "    <tr>\n",
       "      <th>19</th>\n",
       "      <td>org or Phone: +00-3333-4444 Email: bringrain@s...</td>\n",
       "      <td>NaN</td>\n",
       "      <td>NaN</td>\n",
       "      <td>NaN</td>\n",
       "      <td>NaN</td>\n",
       "      <td>NaN</td>\n",
       "    </tr>\n",
       "    <tr>\n",
       "      <th>20</th>\n",
       "      <td>org or Phone: +00-3333-4444</td>\n",
       "      <td>NaN</td>\n",
       "      <td>NaN</td>\n",
       "      <td>NaN</td>\n",
       "      <td>NaN</td>\n",
       "      <td>NaN</td>\n",
       "    </tr>\n",
       "  </tbody>\n",
       "</table>\n",
       "</div>"
      ],
      "text/plain": [
       "                                                  raw    billion_$  \\\n",
       "0    This year in 2020, the rainfall in this regio...          NaN   \n",
       "1    And the primary reason we think is because of...          NaN   \n",
       "2    Most notably the organizations such as \"Save ...          NaN   \n",
       "3    Annually each of these organizations have pla...          NaN   \n",
       "4    And about 25% of those have now grown into ta...          NaN   \n",
       "5    The survival rate of such saplings is lower b...          NaN   \n",
       "6    There were 500, 245 and 793 volunteers from e...          NaN   \n",
       "7    The new forest canopy also provides a lush gr...          NaN   \n",
       "8    We can now see species of birds such as parro...          NaN   \n",
       "9    Few species of animals such as monkeys have a...          NaN   \n",
       "10   This is all very encouraging, however there s...          NaN   \n",
       "11   The rest of the forest outside this 1000 sq k...          NaN   \n",
       "12   Most of the soil was washed out by rain water...          NaN   \n",
       "13   The lack of vegetation in those area is likel...          NaN   \n",
       "14   Over past 5 years, more than 1 trillion trees...          NaN   \n",
       "15   The estimated global market for wood has incr...  [$60, $300]   \n",
       "16   Therefore, such incresed efforts to plant mor...          NaN   \n",
       "17   Save forests! Contact us: Email: savetree@sav...          NaN   \n",
       "18  org or Phone: +00-1111-2222 Email: saveblue@sa...          NaN   \n",
       "19  org or Phone: +00-3333-4444 Email: bringrain@s...          NaN   \n",
       "20                       org or Phone: +00-3333-4444           NaN   \n",
       "\n",
       "                                              reasons  \\\n",
       "0                                                 NaN   \n",
       "1   of increased tree plantations since the year 2005   \n",
       "2                                                 NaN   \n",
       "3                                                 NaN   \n",
       "4                                                 NaN   \n",
       "5   of hot and dry summer temperatures that are up...   \n",
       "6                                                 NaN   \n",
       "7                                                 NaN   \n",
       "8                                                 NaN   \n",
       "9                                                 NaN   \n",
       "10                                                NaN   \n",
       "11                                                NaN   \n",
       "12        there was no vegetation to hold it in place   \n",
       "13                                                NaN   \n",
       "14                                                NaN   \n",
       "15                                                NaN   \n",
       "16                                                NaN   \n",
       "17                                                NaN   \n",
       "18                                                NaN   \n",
       "19                                                NaN   \n",
       "20                                                NaN   \n",
       "\n",
       "                                                birds  \\\n",
       "0                                                 NaN   \n",
       "1                                                 NaN   \n",
       "2                                                 NaN   \n",
       "3                                                 NaN   \n",
       "4                                                 NaN   \n",
       "5                                                 NaN   \n",
       "6                                                 NaN   \n",
       "7                                                 NaN   \n",
       "8   such as parrots increase in numbers fro 500 to...   \n",
       "9                                                 NaN   \n",
       "10                                                NaN   \n",
       "11                                                NaN   \n",
       "12                                                NaN   \n",
       "13                                                NaN   \n",
       "14                                                NaN   \n",
       "15                                                NaN   \n",
       "16                                                NaN   \n",
       "17                                                NaN   \n",
       "18                                                NaN   \n",
       "19                                                NaN   \n",
       "20                                                NaN   \n",
       "\n",
       "                                              animals         years  \n",
       "0                                                 NaN        [2020]  \n",
       "1                                                 NaN        [2005]  \n",
       "2                                                 NaN           NaN  \n",
       "3                                                 NaN           NaN  \n",
       "4                                                 NaN           NaN  \n",
       "5                                                 NaN           NaN  \n",
       "6                                                 NaN           NaN  \n",
       "7                                                 NaN           NaN  \n",
       "8                                                 NaN           NaN  \n",
       "9   such as monkeys have also grown in population ...           NaN  \n",
       "10                                                NaN           NaN  \n",
       "11                                                NaN           NaN  \n",
       "12                                                NaN           NaN  \n",
       "13                                                NaN           NaN  \n",
       "14                                                NaN            []  \n",
       "15                                                NaN  [2005, 2020]  \n",
       "16                                                NaN           NaN  \n",
       "17                                                NaN           NaN  \n",
       "18                                                NaN           NaN  \n",
       "19                                                NaN           NaN  \n",
       "20                                                NaN           NaN  "
      ]
     },
     "execution_count": 75,
     "metadata": {},
     "output_type": "execute_result"
    }
   ],
   "source": [
    "dfl"
   ]
  },
  {
   "cell_type": "markdown",
   "id": "d9b8c4e3-ca90-4142-aa51-37c86773ca3a",
   "metadata": {},
   "source": [
    "### Get market size"
   ]
  },
  {
   "cell_type": "code",
   "execution_count": 76,
   "id": "d5fe59a8-70e5-42af-835e-02fff751e2ce",
   "metadata": {},
   "outputs": [
    {
     "data": {
      "text/html": [
       "<div>\n",
       "<style scoped>\n",
       "    .dataframe tbody tr th:only-of-type {\n",
       "        vertical-align: middle;\n",
       "    }\n",
       "\n",
       "    .dataframe tbody tr th {\n",
       "        vertical-align: top;\n",
       "    }\n",
       "\n",
       "    .dataframe thead th {\n",
       "        text-align: right;\n",
       "    }\n",
       "</style>\n",
       "<table border=\"1\" class=\"dataframe\">\n",
       "  <thead>\n",
       "    <tr style=\"text-align: right;\">\n",
       "      <th></th>\n",
       "      <th>year</th>\n",
       "      <th>billion_$</th>\n",
       "    </tr>\n",
       "  </thead>\n",
       "  <tbody>\n",
       "    <tr>\n",
       "      <th>0</th>\n",
       "      <td>2005</td>\n",
       "      <td>$60</td>\n",
       "    </tr>\n",
       "    <tr>\n",
       "      <th>1</th>\n",
       "      <td>2020</td>\n",
       "      <td>$300</td>\n",
       "    </tr>\n",
       "  </tbody>\n",
       "</table>\n",
       "</div>"
      ],
      "text/plain": [
       "   year billion_$\n",
       "0  2005       $60\n",
       "1  2020      $300"
      ]
     },
     "execution_count": 76,
     "metadata": {},
     "output_type": "execute_result"
    }
   ],
   "source": [
    "dfnew = pd.DataFrame({\n",
    "    'year' : dfl.loc[15, 'years'],\n",
    "    'billion_$' : dfl.loc[15, 'billion_$']\n",
    "})\n",
    "dfnew"
   ]
  },
  {
   "cell_type": "code",
   "execution_count": 79,
   "id": "a57afc50-40b5-48c5-b3bb-4c56b1609e3a",
   "metadata": {},
   "outputs": [
    {
     "data": {
      "text/plain": [
       "9    such as monkeys have also grown in population ...\n",
       "Name: animals, dtype: object"
      ]
     },
     "execution_count": 79,
     "metadata": {},
     "output_type": "execute_result"
    }
   ],
   "source": [
    "x = dfl['animals'].dropna()\n",
    "x"
   ]
  },
  {
   "cell_type": "code",
   "execution_count": 88,
   "id": "73587179-9dfb-431f-9d4c-eb1a16fabd1f",
   "metadata": {},
   "outputs": [],
   "source": [
    "x = dfl['animals'].dropna().values[0]\n",
    "a_count = re.findall('\\d+', x)\n",
    "a_name = re.split('such as ', x)[1].split(' ')[0]\n",
    "dfnew['animal_population'] = a_count"
   ]
  },
  {
   "cell_type": "code",
   "execution_count": 87,
   "id": "3043d996-8216-4c33-98c1-72820206e64d",
   "metadata": {},
   "outputs": [
    {
     "data": {
      "text/plain": [
       "'monkeys'"
      ]
     },
     "execution_count": 87,
     "metadata": {},
     "output_type": "execute_result"
    }
   ],
   "source": [
    "re.split('such as ', x)[1].split(' ')[0]"
   ]
  },
  {
   "cell_type": "code",
   "execution_count": 89,
   "id": "30e1de87-89d1-4f3f-b2bd-11122be9e603",
   "metadata": {},
   "outputs": [
    {
     "data": {
      "text/html": [
       "<div>\n",
       "<style scoped>\n",
       "    .dataframe tbody tr th:only-of-type {\n",
       "        vertical-align: middle;\n",
       "    }\n",
       "\n",
       "    .dataframe tbody tr th {\n",
       "        vertical-align: top;\n",
       "    }\n",
       "\n",
       "    .dataframe thead th {\n",
       "        text-align: right;\n",
       "    }\n",
       "</style>\n",
       "<table border=\"1\" class=\"dataframe\">\n",
       "  <thead>\n",
       "    <tr style=\"text-align: right;\">\n",
       "      <th></th>\n",
       "      <th>year</th>\n",
       "      <th>billion_$</th>\n",
       "      <th>animal_population</th>\n",
       "    </tr>\n",
       "  </thead>\n",
       "  <tbody>\n",
       "    <tr>\n",
       "      <th>0</th>\n",
       "      <td>2005</td>\n",
       "      <td>$60</td>\n",
       "      <td>200</td>\n",
       "    </tr>\n",
       "    <tr>\n",
       "      <th>1</th>\n",
       "      <td>2020</td>\n",
       "      <td>$300</td>\n",
       "      <td>400</td>\n",
       "    </tr>\n",
       "  </tbody>\n",
       "</table>\n",
       "</div>"
      ],
      "text/plain": [
       "   year billion_$ animal_population\n",
       "0  2005       $60               200\n",
       "1  2020      $300               400"
      ]
     },
     "execution_count": 89,
     "metadata": {},
     "output_type": "execute_result"
    }
   ],
   "source": [
    "dfnew"
   ]
  },
  {
   "cell_type": "markdown",
   "id": "8740d308-2548-46fa-9e82-e1bf5f9b20dc",
   "metadata": {},
   "source": [
    "<a id=\"3\"></a>\n",
    "# **<span style=\"color:#00BFC4;\"> Pandas: Extract, Contains in Python using regex  </span>**"
   ]
  },
  {
   "cell_type": "markdown",
   "id": "b30affee-b80c-43d7-9852-d722d843b81f",
   "metadata": {},
   "source": [
    "How to use regex or regular expressions in Pandas?<br>\n",
    "How to split strings in a Series and DataFrame?<br>\n",
    "How to split index?<br>\n",
    "How to check if a pattern exists in a Series or a column of DataFrame?<br>\n",
    "How to use regex to directly split strings into dummy variables?<br>\n",
    "\n",
    "<b>Commands:<br>\n",
    "<li>extract()with and without expand<br>\n",
    "<li>extractall()<br>\n",
    "<li>.contains()"
   ]
  },
  {
   "cell_type": "markdown",
   "id": "bf3903db-7716-402d-901f-97c54f0bdaf5",
   "metadata": {},
   "source": [
    "### Data"
   ]
  },
  {
   "cell_type": "code",
   "execution_count": 2,
   "id": "2e3f9cc3-1bba-4504-883a-420c2427b496",
   "metadata": {},
   "outputs": [],
   "source": [
    "# s : Series\n",
    "# p : pattern"
   ]
  },
  {
   "cell_type": "code",
   "execution_count": 5,
   "id": "961b591c-d633-4a99-aa31-a7ff1bde0683",
   "metadata": {},
   "outputs": [],
   "source": [
    "s = pd.Series(['m1', 'n2', 'o3', '4'])"
   ]
  },
  {
   "cell_type": "markdown",
   "id": "6c8ebd55-c13e-44b5-b916-eac158933b1c",
   "metadata": {},
   "source": [
    "### Extract"
   ]
  },
  {
   "cell_type": "markdown",
   "id": "6469691c-d825-4c52-af92-03adfae68159",
   "metadata": {},
   "source": [
    "split strings within a Series and put them into different if needed in different columns or new series itself."
   ]
  },
  {
   "cell_type": "code",
   "execution_count": 6,
   "id": "a84e5c0e-8a6a-457a-a9bd-7e6021b7782b",
   "metadata": {},
   "outputs": [
    {
     "data": {
      "text/plain": [
       "0    m1\n",
       "1    n2\n",
       "2    o3\n",
       "3     4\n",
       "dtype: object"
      ]
     },
     "execution_count": 6,
     "metadata": {},
     "output_type": "execute_result"
    }
   ],
   "source": [
    "s"
   ]
  },
  {
   "cell_type": "code",
   "execution_count": 7,
   "id": "619e0adf-38ad-4628-98a6-4e40fa90fcf4",
   "metadata": {},
   "outputs": [],
   "source": [
    "p = r'([mn])(\\d)'"
   ]
  },
  {
   "cell_type": "code",
   "execution_count": 14,
   "id": "03d1f15c-4db5-48d4-b83d-bdbfa617586a",
   "metadata": {},
   "outputs": [
    {
     "name": "stdout",
     "output_type": "stream",
     "text": [
      "<class 'pandas.core.frame.DataFrame'>\n"
     ]
    },
    {
     "data": {
      "text/html": [
       "<div>\n",
       "<style scoped>\n",
       "    .dataframe tbody tr th:only-of-type {\n",
       "        vertical-align: middle;\n",
       "    }\n",
       "\n",
       "    .dataframe tbody tr th {\n",
       "        vertical-align: top;\n",
       "    }\n",
       "\n",
       "    .dataframe thead th {\n",
       "        text-align: right;\n",
       "    }\n",
       "</style>\n",
       "<table border=\"1\" class=\"dataframe\">\n",
       "  <thead>\n",
       "    <tr style=\"text-align: right;\">\n",
       "      <th></th>\n",
       "      <th>0</th>\n",
       "      <th>1</th>\n",
       "    </tr>\n",
       "  </thead>\n",
       "  <tbody>\n",
       "    <tr>\n",
       "      <th>0</th>\n",
       "      <td>m</td>\n",
       "      <td>1</td>\n",
       "    </tr>\n",
       "    <tr>\n",
       "      <th>1</th>\n",
       "      <td>n</td>\n",
       "      <td>2</td>\n",
       "    </tr>\n",
       "    <tr>\n",
       "      <th>2</th>\n",
       "      <td>NaN</td>\n",
       "      <td>NaN</td>\n",
       "    </tr>\n",
       "    <tr>\n",
       "      <th>3</th>\n",
       "      <td>NaN</td>\n",
       "      <td>NaN</td>\n",
       "    </tr>\n",
       "  </tbody>\n",
       "</table>\n",
       "</div>"
      ],
      "text/plain": [
       "     0    1\n",
       "0    m    1\n",
       "1    n    2\n",
       "2  NaN  NaN\n",
       "3  NaN  NaN"
      ]
     },
     "execution_count": 14,
     "metadata": {},
     "output_type": "execute_result"
    }
   ],
   "source": [
    "x = s.str.extract(p, expand=False)\n",
    "print(type(x))\n",
    "x"
   ]
  },
  {
   "cell_type": "code",
   "execution_count": 18,
   "id": "54e2ffa0-9504-4aeb-b6f6-45727aaf8906",
   "metadata": {},
   "outputs": [
    {
     "name": "stdout",
     "output_type": "stream",
     "text": [
      "<class 'pandas.core.frame.DataFrame'>\n"
     ]
    },
    {
     "data": {
      "text/html": [
       "<div>\n",
       "<style scoped>\n",
       "    .dataframe tbody tr th:only-of-type {\n",
       "        vertical-align: middle;\n",
       "    }\n",
       "\n",
       "    .dataframe tbody tr th {\n",
       "        vertical-align: top;\n",
       "    }\n",
       "\n",
       "    .dataframe thead th {\n",
       "        text-align: right;\n",
       "    }\n",
       "</style>\n",
       "<table border=\"1\" class=\"dataframe\">\n",
       "  <thead>\n",
       "    <tr style=\"text-align: right;\">\n",
       "      <th></th>\n",
       "      <th>letter</th>\n",
       "      <th>number</th>\n",
       "    </tr>\n",
       "  </thead>\n",
       "  <tbody>\n",
       "    <tr>\n",
       "      <th>0</th>\n",
       "      <td>m</td>\n",
       "      <td>1</td>\n",
       "    </tr>\n",
       "    <tr>\n",
       "      <th>1</th>\n",
       "      <td>n</td>\n",
       "      <td>2</td>\n",
       "    </tr>\n",
       "    <tr>\n",
       "      <th>2</th>\n",
       "      <td>NaN</td>\n",
       "      <td>NaN</td>\n",
       "    </tr>\n",
       "    <tr>\n",
       "      <th>3</th>\n",
       "      <td>NaN</td>\n",
       "      <td>NaN</td>\n",
       "    </tr>\n",
       "  </tbody>\n",
       "</table>\n",
       "</div>"
      ],
      "text/plain": [
       "  letter number\n",
       "0      m      1\n",
       "1      n      2\n",
       "2    NaN    NaN\n",
       "3    NaN    NaN"
      ]
     },
     "execution_count": 18,
     "metadata": {},
     "output_type": "execute_result"
    }
   ],
   "source": [
    "p = r'(?P<letter>[mn])(?P<number>\\d)'\n",
    "x = s.str.extract(p, expand=False)\n",
    "print(type(x))\n",
    "x"
   ]
  },
  {
   "cell_type": "code",
   "execution_count": 22,
   "id": "e6212299-35ec-465a-9e45-fb9d1bf6a3b5",
   "metadata": {},
   "outputs": [
    {
     "name": "stdout",
     "output_type": "stream",
     "text": [
      "<class 'pandas.core.frame.DataFrame'>\n"
     ]
    },
    {
     "data": {
      "text/html": [
       "<div>\n",
       "<style scoped>\n",
       "    .dataframe tbody tr th:only-of-type {\n",
       "        vertical-align: middle;\n",
       "    }\n",
       "\n",
       "    .dataframe tbody tr th {\n",
       "        vertical-align: top;\n",
       "    }\n",
       "\n",
       "    .dataframe thead th {\n",
       "        text-align: right;\n",
       "    }\n",
       "</style>\n",
       "<table border=\"1\" class=\"dataframe\">\n",
       "  <thead>\n",
       "    <tr style=\"text-align: right;\">\n",
       "      <th></th>\n",
       "      <th>0</th>\n",
       "      <th>1</th>\n",
       "    </tr>\n",
       "  </thead>\n",
       "  <tbody>\n",
       "    <tr>\n",
       "      <th>0</th>\n",
       "      <td>m</td>\n",
       "      <td>1</td>\n",
       "    </tr>\n",
       "    <tr>\n",
       "      <th>1</th>\n",
       "      <td>n</td>\n",
       "      <td>2</td>\n",
       "    </tr>\n",
       "    <tr>\n",
       "      <th>2</th>\n",
       "      <td>NaN</td>\n",
       "      <td>3</td>\n",
       "    </tr>\n",
       "    <tr>\n",
       "      <th>3</th>\n",
       "      <td>NaN</td>\n",
       "      <td>4</td>\n",
       "    </tr>\n",
       "  </tbody>\n",
       "</table>\n",
       "</div>"
      ],
      "text/plain": [
       "     0  1\n",
       "0    m  1\n",
       "1    n  2\n",
       "2  NaN  3\n",
       "3  NaN  4"
      ]
     },
     "execution_count": 22,
     "metadata": {},
     "output_type": "execute_result"
    }
   ],
   "source": [
    "p = r'([mn])?(\\d)'\n",
    "x = s.str.extract(p, expand=False)\n",
    "print(type(x))\n",
    "x"
   ]
  },
  {
   "cell_type": "markdown",
   "id": "b6ceac49-e78a-4574-b23f-2d7a8287812f",
   "metadata": {},
   "source": [
    "#### expand = True vs. False"
   ]
  },
  {
   "cell_type": "code",
   "execution_count": 23,
   "id": "8a73516b-ca97-435b-b96c-01fad0a27ba7",
   "metadata": {},
   "outputs": [
    {
     "name": "stdout",
     "output_type": "stream",
     "text": [
      "<class 'pandas.core.series.Series'>\n"
     ]
    },
    {
     "data": {
      "text/plain": [
       "0      1\n",
       "1      2\n",
       "2    NaN\n",
       "3    NaN\n",
       "dtype: object"
      ]
     },
     "execution_count": 23,
     "metadata": {},
     "output_type": "execute_result"
    }
   ],
   "source": [
    "p = r'[mn](\\d)'\n",
    "x = s.str.extract(p, expand=False)\n",
    "print(type(x))\n",
    "x"
   ]
  },
  {
   "cell_type": "code",
   "execution_count": 24,
   "id": "ac8a1f24-571a-4614-b555-81f99478bb9b",
   "metadata": {},
   "outputs": [
    {
     "name": "stdout",
     "output_type": "stream",
     "text": [
      "<class 'pandas.core.frame.DataFrame'>\n"
     ]
    },
    {
     "data": {
      "text/html": [
       "<div>\n",
       "<style scoped>\n",
       "    .dataframe tbody tr th:only-of-type {\n",
       "        vertical-align: middle;\n",
       "    }\n",
       "\n",
       "    .dataframe tbody tr th {\n",
       "        vertical-align: top;\n",
       "    }\n",
       "\n",
       "    .dataframe thead th {\n",
       "        text-align: right;\n",
       "    }\n",
       "</style>\n",
       "<table border=\"1\" class=\"dataframe\">\n",
       "  <thead>\n",
       "    <tr style=\"text-align: right;\">\n",
       "      <th></th>\n",
       "      <th>0</th>\n",
       "    </tr>\n",
       "  </thead>\n",
       "  <tbody>\n",
       "    <tr>\n",
       "      <th>0</th>\n",
       "      <td>1</td>\n",
       "    </tr>\n",
       "    <tr>\n",
       "      <th>1</th>\n",
       "      <td>2</td>\n",
       "    </tr>\n",
       "    <tr>\n",
       "      <th>2</th>\n",
       "      <td>NaN</td>\n",
       "    </tr>\n",
       "    <tr>\n",
       "      <th>3</th>\n",
       "      <td>NaN</td>\n",
       "    </tr>\n",
       "  </tbody>\n",
       "</table>\n",
       "</div>"
      ],
      "text/plain": [
       "     0\n",
       "0    1\n",
       "1    2\n",
       "2  NaN\n",
       "3  NaN"
      ]
     },
     "execution_count": 24,
     "metadata": {},
     "output_type": "execute_result"
    }
   ],
   "source": [
    "p = r'[mn](\\d)'\n",
    "x = s.str.extract(p, expand=True)\n",
    "print(type(x))\n",
    "x"
   ]
  },
  {
   "cell_type": "markdown",
   "id": "be88605f-337f-44dc-90c4-f5dcebc7a1dc",
   "metadata": {},
   "source": [
    "expand=True , return DataFrame"
   ]
  },
  {
   "cell_type": "markdown",
   "id": "de2f98d5-a78a-4cf2-9ea3-306bd48f8f02",
   "metadata": {},
   "source": [
    "### Index"
   ]
  },
  {
   "cell_type": "code",
   "execution_count": 25,
   "id": "11d15c80-7681-43bb-9412-985d6bff6b9c",
   "metadata": {},
   "outputs": [],
   "source": [
    "s.index = ['M1', 'N2', 'O3', 'Q4']"
   ]
  },
  {
   "cell_type": "code",
   "execution_count": 28,
   "id": "fa57ce68-fccc-4381-9cf0-e2270e9ecf3e",
   "metadata": {},
   "outputs": [
    {
     "data": {
      "text/plain": [
       "M1    m1\n",
       "N2    n2\n",
       "O3    o3\n",
       "Q4     4\n",
       "dtype: object"
      ]
     },
     "execution_count": 28,
     "metadata": {},
     "output_type": "execute_result"
    }
   ],
   "source": [
    "s"
   ]
  },
  {
   "cell_type": "code",
   "execution_count": 26,
   "id": "52cc8a84-a0b7-4997-a647-3b3d07928759",
   "metadata": {},
   "outputs": [
    {
     "name": "stdout",
     "output_type": "stream",
     "text": [
      "<class 'pandas.core.indexes.base.Index'>\n"
     ]
    },
    {
     "data": {
      "text/plain": [
       "Index(['1', '2', nan, nan], dtype='object', name='number')"
      ]
     },
     "execution_count": 26,
     "metadata": {},
     "output_type": "execute_result"
    }
   ],
   "source": [
    "p = r'[MN](?P<number>\\d)'\n",
    "x = s.index.str.extract(p, expand=False)\n",
    "print(type(x))\n",
    "x"
   ]
  },
  {
   "cell_type": "code",
   "execution_count": 27,
   "id": "84845826-ab0f-45da-8984-54ec893d9cf9",
   "metadata": {},
   "outputs": [
    {
     "name": "stdout",
     "output_type": "stream",
     "text": [
      "<class 'pandas.core.frame.DataFrame'>\n"
     ]
    },
    {
     "data": {
      "text/html": [
       "<div>\n",
       "<style scoped>\n",
       "    .dataframe tbody tr th:only-of-type {\n",
       "        vertical-align: middle;\n",
       "    }\n",
       "\n",
       "    .dataframe tbody tr th {\n",
       "        vertical-align: top;\n",
       "    }\n",
       "\n",
       "    .dataframe thead th {\n",
       "        text-align: right;\n",
       "    }\n",
       "</style>\n",
       "<table border=\"1\" class=\"dataframe\">\n",
       "  <thead>\n",
       "    <tr style=\"text-align: right;\">\n",
       "      <th></th>\n",
       "      <th>number</th>\n",
       "    </tr>\n",
       "  </thead>\n",
       "  <tbody>\n",
       "    <tr>\n",
       "      <th>0</th>\n",
       "      <td>1</td>\n",
       "    </tr>\n",
       "    <tr>\n",
       "      <th>1</th>\n",
       "      <td>2</td>\n",
       "    </tr>\n",
       "    <tr>\n",
       "      <th>2</th>\n",
       "      <td>NaN</td>\n",
       "    </tr>\n",
       "    <tr>\n",
       "      <th>3</th>\n",
       "      <td>NaN</td>\n",
       "    </tr>\n",
       "  </tbody>\n",
       "</table>\n",
       "</div>"
      ],
      "text/plain": [
       "  number\n",
       "0      1\n",
       "1      2\n",
       "2    NaN\n",
       "3    NaN"
      ]
     },
     "execution_count": 27,
     "metadata": {},
     "output_type": "execute_result"
    }
   ],
   "source": [
    "p = r'[MN](?P<number>\\d)'\n",
    "x = s.index.str.extract(p, expand=True)\n",
    "print(type(x))\n",
    "x"
   ]
  },
  {
   "cell_type": "code",
   "execution_count": 30,
   "id": "f0888360-9ff3-40d4-b0c3-b2694cf9e58d",
   "metadata": {},
   "outputs": [
    {
     "name": "stdout",
     "output_type": "stream",
     "text": [
      "<class 'pandas.core.frame.DataFrame'>\n"
     ]
    },
    {
     "data": {
      "text/html": [
       "<div>\n",
       "<style scoped>\n",
       "    .dataframe tbody tr th:only-of-type {\n",
       "        vertical-align: middle;\n",
       "    }\n",
       "\n",
       "    .dataframe tbody tr th {\n",
       "        vertical-align: top;\n",
       "    }\n",
       "\n",
       "    .dataframe thead th {\n",
       "        text-align: right;\n",
       "    }\n",
       "</style>\n",
       "<table border=\"1\" class=\"dataframe\">\n",
       "  <thead>\n",
       "    <tr style=\"text-align: right;\">\n",
       "      <th></th>\n",
       "      <th>letter</th>\n",
       "      <th>number</th>\n",
       "    </tr>\n",
       "  </thead>\n",
       "  <tbody>\n",
       "    <tr>\n",
       "      <th>0</th>\n",
       "      <td>M</td>\n",
       "      <td>1</td>\n",
       "    </tr>\n",
       "    <tr>\n",
       "      <th>1</th>\n",
       "      <td>N</td>\n",
       "      <td>2</td>\n",
       "    </tr>\n",
       "    <tr>\n",
       "      <th>2</th>\n",
       "      <td>NaN</td>\n",
       "      <td>NaN</td>\n",
       "    </tr>\n",
       "    <tr>\n",
       "      <th>3</th>\n",
       "      <td>NaN</td>\n",
       "      <td>NaN</td>\n",
       "    </tr>\n",
       "  </tbody>\n",
       "</table>\n",
       "</div>"
      ],
      "text/plain": [
       "  letter number\n",
       "0      M      1\n",
       "1      N      2\n",
       "2    NaN    NaN\n",
       "3    NaN    NaN"
      ]
     },
     "execution_count": 30,
     "metadata": {},
     "output_type": "execute_result"
    }
   ],
   "source": [
    "p = r'(?P<letter>[MN])(?P<number>\\d)'\n",
    "x = s.index.str.extract(p, expand=True)\n",
    "print(type(x))\n",
    "x"
   ]
  },
  {
   "cell_type": "markdown",
   "id": "f0b25127-d202-4c96-acee-b4bca418b9d7",
   "metadata": {},
   "source": [
    "### extract all"
   ]
  },
  {
   "cell_type": "code",
   "execution_count": 33,
   "id": "51d38c69-5b7a-490f-82a6-d191d70785d4",
   "metadata": {},
   "outputs": [
    {
     "data": {
      "text/plain": [
       "M1    m1m2\n",
       "N2      n2\n",
       "O3      o3\n",
       "Q4       4\n",
       "dtype: object"
      ]
     },
     "execution_count": 33,
     "metadata": {},
     "output_type": "execute_result"
    }
   ],
   "source": [
    "s[0] = 'm1m2'\n",
    "s"
   ]
  },
  {
   "cell_type": "code",
   "execution_count": 35,
   "id": "f1c1cf7e-2cfe-463d-b31f-faed4f6f3b72",
   "metadata": {},
   "outputs": [
    {
     "data": {
      "text/html": [
       "<div>\n",
       "<style scoped>\n",
       "    .dataframe tbody tr th:only-of-type {\n",
       "        vertical-align: middle;\n",
       "    }\n",
       "\n",
       "    .dataframe tbody tr th {\n",
       "        vertical-align: top;\n",
       "    }\n",
       "\n",
       "    .dataframe thead th {\n",
       "        text-align: right;\n",
       "    }\n",
       "</style>\n",
       "<table border=\"1\" class=\"dataframe\">\n",
       "  <thead>\n",
       "    <tr style=\"text-align: right;\">\n",
       "      <th></th>\n",
       "      <th></th>\n",
       "      <th>letter</th>\n",
       "      <th>number</th>\n",
       "    </tr>\n",
       "    <tr>\n",
       "      <th></th>\n",
       "      <th>match</th>\n",
       "      <th></th>\n",
       "      <th></th>\n",
       "    </tr>\n",
       "  </thead>\n",
       "  <tbody>\n",
       "    <tr>\n",
       "      <th rowspan=\"2\" valign=\"top\">M1</th>\n",
       "      <th>0</th>\n",
       "      <td>m</td>\n",
       "      <td>1</td>\n",
       "    </tr>\n",
       "    <tr>\n",
       "      <th>1</th>\n",
       "      <td>m</td>\n",
       "      <td>2</td>\n",
       "    </tr>\n",
       "    <tr>\n",
       "      <th>N2</th>\n",
       "      <th>0</th>\n",
       "      <td>n</td>\n",
       "      <td>2</td>\n",
       "    </tr>\n",
       "    <tr>\n",
       "      <th>O3</th>\n",
       "      <th>0</th>\n",
       "      <td>o</td>\n",
       "      <td>3</td>\n",
       "    </tr>\n",
       "  </tbody>\n",
       "</table>\n",
       "</div>"
      ],
      "text/plain": [
       "         letter number\n",
       "   match              \n",
       "M1 0          m      1\n",
       "   1          m      2\n",
       "N2 0          n      2\n",
       "O3 0          o      3"
      ]
     },
     "execution_count": 35,
     "metadata": {},
     "output_type": "execute_result"
    }
   ],
   "source": [
    "p = r'(?P<letter>[a-zA-Z])(?P<number>\\d)'\n",
    "s.str.extractall(p)"
   ]
  },
  {
   "cell_type": "markdown",
   "id": "7272b3eb-0729-4ec1-a75c-54556eb15111",
   "metadata": {},
   "source": [
    "### contains"
   ]
  },
  {
   "cell_type": "code",
   "execution_count": 37,
   "id": "1c31dc0e-9bcc-403c-86aa-6646b6dd479c",
   "metadata": {},
   "outputs": [
    {
     "data": {
      "text/plain": [
       "0    0a2\n",
       "1    3bb\n",
       "2      4\n",
       "3      q\n",
       "dtype: object"
      ]
     },
     "execution_count": 37,
     "metadata": {},
     "output_type": "execute_result"
    }
   ],
   "source": [
    "s = pd.Series(['0a2', '3bb', '4', 'q'])\n",
    "s"
   ]
  },
  {
   "cell_type": "code",
   "execution_count": 38,
   "id": "b4ae5c6a-a665-4754-a953-3807e24a25e8",
   "metadata": {},
   "outputs": [
    {
     "name": "stdout",
     "output_type": "stream",
     "text": [
      "<class 'pandas.core.series.Series'>\n"
     ]
    },
    {
     "data": {
      "text/plain": [
       "0     True\n",
       "1    False\n",
       "2    False\n",
       "3    False\n",
       "dtype: bool"
      ]
     },
     "execution_count": 38,
     "metadata": {},
     "output_type": "execute_result"
    }
   ],
   "source": [
    "p = r'[0-9][a-z][0-9]'\n",
    "x = s.str.contains(p)\n",
    "print(type(x))\n",
    "x"
   ]
  },
  {
   "cell_type": "code",
   "execution_count": 39,
   "id": "9f76fe78-f0a3-470d-a5eb-deda8d6fdf93",
   "metadata": {},
   "outputs": [
    {
     "data": {
      "text/plain": [
       "0     True\n",
       "1    False\n",
       "2    False\n",
       "3    False\n",
       "dtype: bool"
      ]
     },
     "execution_count": 39,
     "metadata": {},
     "output_type": "execute_result"
    }
   ],
   "source": [
    "s.str.match(p)"
   ]
  },
  {
   "cell_type": "code",
   "execution_count": null,
   "id": "7ea8d83c-025c-4b32-9b82-356672c95c93",
   "metadata": {},
   "outputs": [],
   "source": []
  }
 ],
 "metadata": {
  "kernelspec": {
   "display_name": "Python 3 (ipykernel)",
   "language": "python",
   "name": "python3"
  },
  "language_info": {
   "codemirror_mode": {
    "name": "ipython",
    "version": 3
   },
   "file_extension": ".py",
   "mimetype": "text/x-python",
   "name": "python",
   "nbconvert_exporter": "python",
   "pygments_lexer": "ipython3",
   "version": "3.9.12"
  }
 },
 "nbformat": 4,
 "nbformat_minor": 5
}
